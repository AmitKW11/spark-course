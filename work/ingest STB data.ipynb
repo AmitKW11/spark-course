{
 "cells": [
  {
   "cell_type": "markdown",
   "id": "914ed86a-9422-40f6-aa26-72858d66075d",
   "metadata": {},
   "source": [
    "# Read CSV files of FWM Set top box (STB) data into dataframes\n",
    "\n",
    "Read a file list into a DF, write it to a parquet file .\n",
    "\n",
    "Noam 2023-02-06\n"
   ]
  },
  {
   "cell_type": "code",
   "execution_count": 40,
   "id": "780e03c3-6d21-462a-bcbc-0ce4d2779b5c",
   "metadata": {},
   "outputs": [],
   "source": [
    "import pyspark\n",
    "from pyspark.sql import SparkSession\n",
    "from pyspark.sql.types import*\n",
    "\n",
    "spark = SparkSession.builder.appName('fwm').getOrCreate()\n",
    "sc = spark.sparkContext"
   ]
  },
  {
   "cell_type": "code",
   "execution_count": 41,
   "id": "a63e1c67-1e44-4942-817b-ebc725baba57",
   "metadata": {
    "tags": []
   },
   "outputs": [],
   "source": [
    "# Read a CSV into a dataframe\n",
    "def load_PD_file(filename, schema) :\n",
    "    dataPath = \"/datasets/Fourthwall_STB_data/\" + filename\n",
    "    df = spark.read.format(\"csv\")\\\n",
    "      .option(\"header\",\"false\")\\\n",
    "      .option(\"delimiter\", \"|\")\\\n",
    "      .schema(schema)\\\n",
    "      .load(dataPath)\n",
    "    return df\n",
    "  \n",
    "# inferSchema means we will automatically figure out column types \n",
    "# at a cost of reading the data more than once"
   ]
  },
  {
   "cell_type": "code",
   "execution_count": 67,
   "id": "26d89ac5-46a0-4a8c-9668-4d3a31a79707",
   "metadata": {
    "tags": []
   },
   "outputs": [],
   "source": [
    "schema =  StructType([StructField('prog_code',StringType()),\n",
    "                     StructField('title',StringType()),\n",
    "                     StructField('genre',StringType()),\n",
    "                     StructField('air_date',StringType()),\n",
    "                     StructField('air_time',StringType()),\n",
    "                     StructField('Duration',FloatType())\n",
    "                                       ])\n",
    "x = load_PD_file(\"SintecMedia.rpt_programs.date_2015-12-30.2016-11-29.pd\", schema  )\n",
    "              "
   ]
  },
  {
   "cell_type": "code",
   "execution_count": 98,
   "id": "4d006ab8-e696-4c96-adac-d2e387608ab0",
   "metadata": {
    "tags": []
   },
   "outputs": [
    {
     "name": "stdout",
     "output_type": "stream",
     "text": [
      "root\n",
      " |-- prog_code: string (nullable = true)\n",
      " |-- title: string (nullable = true)\n",
      " |-- genre: string (nullable = true)\n",
      " |-- air_date: string (nullable = true)\n",
      " |-- air_time: string (nullable = true)\n",
      " |-- Duration: float (nullable = true)\n",
      "\n",
      "root\n",
      " |-- prog_code: string (nullable = true)\n",
      " |-- title: string (nullable = true)\n",
      " |-- genre: string (nullable = true)\n",
      " |-- air_time: string (nullable = true)\n",
      " |-- Duration: float (nullable = true)\n",
      " |-- airdate: date (nullable = true)\n",
      " |-- airtime: float (nullable = true)\n",
      "\n",
      "+--------------+-----------------+-----------+--------+--------+----------+-------+\n",
      "|     prog_code|            title|      genre|air_time|Duration|   airdate|airtime|\n",
      "+--------------+-----------------+-----------+--------+--------+----------+-------+\n",
      "|EP000000510016|A Different World|     Sitcom|  140000|    30.0|2015-01-30|   null|\n",
      "|EP000000510017|A Different World|     Sitcom|  143000|    30.0|2015-01-30|   null|\n",
      "|EP000000510027|A Different World|     Sitcom|  220000|    30.0|2015-01-30|   null|\n",
      "|EP000000510029|A Different World|     Sitcom|  223000|    30.0|2015-01-30|   null|\n",
      "|EP000001130151|          Adam-12|Crime drama|  173000|    30.0|2015-01-30|   null|\n",
      "+--------------+-----------------+-----------+--------+--------+----------+-------+\n",
      "only showing top 5 rows\n",
      "\n"
     ]
    }
   ],
   "source": [
    "from pyspark.sql.functions import col,to_date,udf\n",
    "def strtime_to_fload(val:str)-> float:\n",
    "    h = 66# int(val)//10000\n",
    "    #m = h /100\n",
    "    return h\n",
    "to_float_time = udf(strtime_to_fload, FloatType())\n",
    "\n",
    "x.printSchema()\n",
    "x2 = x.withColumn('airdate',to_date(col('air_date'),'yyyymmdd'))\\\n",
    "      .withColumn('airtime',to_float_time(col('air_time')))\\\n",
    "      .drop('air_date')\n",
    "      #.drop('air_time')\n",
    "x2.printSchema()\n",
    "x2.show(5)"
   ]
  },
  {
   "cell_type": "code",
   "execution_count": 69,
   "id": "bfb7c885-6297-444e-bb88-24620423ad4e",
   "metadata": {
    "tags": []
   },
   "outputs": [
    {
     "ename": "TypeError",
     "evalue": "load_PD_file() missing 1 required positional argument: 'schema'",
     "output_type": "error",
     "traceback": [
      "\u001b[0;31m---------------------------------------------------------------------------\u001b[0m",
      "\u001b[0;31mTypeError\u001b[0m                                 Traceback (most recent call last)",
      "\u001b[0;32m/tmp/ipykernel_57/2858897323.py\u001b[0m in \u001b[0;36m<module>\u001b[0;34m\u001b[0m\n\u001b[0;32m----> 1\u001b[0;31m \u001b[0my\u001b[0m \u001b[0;34m=\u001b[0m \u001b[0mload_PD_file\u001b[0m\u001b[0;34m(\u001b[0m\u001b[0;34m\"FWM_20151229_R.pd\"\u001b[0m\u001b[0;34m)\u001b[0m\u001b[0;34m\u001b[0m\u001b[0;34m\u001b[0m\u001b[0m\n\u001b[0m\u001b[1;32m      2\u001b[0m \u001b[0my\u001b[0m\u001b[0;34m.\u001b[0m\u001b[0mprintSchema\u001b[0m\u001b[0;34m(\u001b[0m\u001b[0;34m)\u001b[0m\u001b[0;34m\u001b[0m\u001b[0;34m\u001b[0m\u001b[0m\n\u001b[1;32m      3\u001b[0m \u001b[0my\u001b[0m\u001b[0;34m.\u001b[0m\u001b[0mshow\u001b[0m\u001b[0;34m(\u001b[0m\u001b[0;34m)\u001b[0m\u001b[0;34m\u001b[0m\u001b[0;34m\u001b[0m\u001b[0m\n",
      "\u001b[0;31mTypeError\u001b[0m: load_PD_file() missing 1 required positional argument: 'schema'"
     ]
    }
   ],
   "source": [
    "y = load_PD_file(\"FWM_20151229_R.pd\")\n",
    "y.printSchema()\n",
    "y.show()"
   ]
  },
  {
   "cell_type": "code",
   "execution_count": 23,
   "id": "ef8e5328-9624-4231-b2e0-21669c9c4f90",
   "metadata": {
    "tags": []
   },
   "outputs": [
    {
     "name": "stderr",
     "output_type": "stream",
     "text": [
      "[Stage 28:====================================>                     (5 + 3) / 8]\r"
     ]
    },
    {
     "name": "stdout",
     "output_type": "stream",
     "text": [
      "CPU times: user 6.03 ms, sys: 942 µs, total: 6.97 ms\n",
      "Wall time: 7.13 s\n"
     ]
    },
    {
     "name": "stderr",
     "output_type": "stream",
     "text": [
      "                                                                                \r"
     ]
    }
   ],
   "source": [
    "%%time\n",
    "z = load_PD_file(\"SintecMedia.rpt_prog_view.date_2015-12-26.2016-11-29.pd\")\n",
    "#z.printSchema()\n",
    "z = z.toDF(*['MSO','device_id','playback_date','unk','unk2', 'station_num'])\n",
    "#z.show()"
   ]
  },
  {
   "cell_type": "code",
   "execution_count": 25,
   "id": "075e802f-88e5-48ac-8a0c-1fa873df905f",
   "metadata": {},
   "outputs": [
    {
     "name": "stderr",
     "output_type": "stream",
     "text": [
      "23/02/08 18:46:49 WARN MemoryManager: Total allocation exceeds 95.00% (1,020,054,720 bytes) of heap memory\n",
      "Scaling row group sizes to 95.00% for 8 writers\n",
      "[Stage 29:==================================================>       (7 + 1) / 8]\r"
     ]
    },
    {
     "name": "stdout",
     "output_type": "stream",
     "text": [
      "CPU times: user 5.64 ms, sys: 4.84 ms, total: 10.5 ms\n",
      "Wall time: 12.2 s\n"
     ]
    },
    {
     "name": "stderr",
     "output_type": "stream",
     "text": [
      "                                                                                \r"
     ]
    }
   ],
   "source": [
    "%%time \n",
    "z.write.parquet(\"../data/prog_view.parquet\")\n"
   ]
  },
  {
   "cell_type": "code",
   "execution_count": 63,
   "id": "f9a158eb-ca4e-4426-a105-ebe62ca86b4a",
   "metadata": {},
   "outputs": [
    {
     "ename": "NameError",
     "evalue": "name 'z' is not defined",
     "output_type": "error",
     "traceback": [
      "\u001b[0;31m---------------------------------------------------------------------------\u001b[0m",
      "\u001b[0;31mNameError\u001b[0m                                 Traceback (most recent call last)",
      "\u001b[0;32m/tmp/ipykernel_57/1618113859.py\u001b[0m in \u001b[0;36m<module>\u001b[0;34m\u001b[0m\n\u001b[0;32m----> 1\u001b[0;31m \u001b[0;32mdel\u001b[0m \u001b[0mz\u001b[0m\u001b[0;34m\u001b[0m\u001b[0;34m\u001b[0m\u001b[0m\n\u001b[0m\u001b[1;32m      2\u001b[0m \u001b[0;32mdel\u001b[0m \u001b[0my\u001b[0m\u001b[0;34m\u001b[0m\u001b[0;34m\u001b[0m\u001b[0m\n\u001b[1;32m      3\u001b[0m \u001b[0;32mdel\u001b[0m \u001b[0mx\u001b[0m\u001b[0;34m\u001b[0m\u001b[0;34m\u001b[0m\u001b[0m\n",
      "\u001b[0;31mNameError\u001b[0m: name 'z' is not defined"
     ]
    }
   ],
   "source": [
    "del z\n",
    "del y\n",
    "del x\n"
   ]
  },
  {
   "cell_type": "code",
   "execution_count": 30,
   "id": "ea48d113-58b5-4fba-b475-aaa2ef288a9a",
   "metadata": {},
   "outputs": [
    {
     "name": "stdout",
     "output_type": "stream",
     "text": [
      "CPU times: user 0 ns, sys: 2.23 ms, total: 2.23 ms\n",
      "Wall time: 71.5 ms\n"
     ]
    }
   ],
   "source": [
    "%%time \n",
    "z = spark.read.parquet(\"../data/prog_view.parquet\")"
   ]
  },
  {
   "cell_type": "code",
   "execution_count": 35,
   "id": "8bb48266-5bce-4270-b7aa-95da1918ea81",
   "metadata": {},
   "outputs": [
    {
     "name": "stdout",
     "output_type": "stream",
     "text": [
      "+----+------------+-------------+------+-----+--------------+\n",
      "| MSO|   device_id|playback_date|   unk| unk2|   station_num|\n",
      "+----+------------+-------------+------+-----+--------------+\n",
      "|8360|001bd75e12e3|     20151226| 63440|11713|SH007227490000|\n",
      "|8360|001bd75e12e3|     20151226| 70000|11713|SH007227490000|\n",
      "|8360|001bd75e12e3|     20151226| 80000|11713|EP000018937336|\n",
      "|8360|001bd75e12e3|     20151226|182527|11713|EP000009937693|\n",
      "|8360|001bd75e12e3|     20151226|182608|49603|EP021213560001|\n",
      "|8360|001bd75e12e3|     20151226|183000|49603|EP021213560002|\n",
      "|8360|001bd75e12e3|     20151226|184055|14902|EP017277730029|\n",
      "|8360|001bd75e12e3|     20151226|190000|14902|EP020481370022|\n",
      "|8360|001bd75e12e3|     20151226|193000|14902|EP020481370014|\n",
      "|8360|001bd75e12e3|     20151226|195448|14909|EP013320550286|\n",
      "+----+------------+-------------+------+-----+--------------+\n",
      "only showing top 10 rows\n",
      "\n",
      "CPU times: user 2.71 ms, sys: 0 ns, total: 2.71 ms\n",
      "Wall time: 221 ms\n"
     ]
    }
   ],
   "source": [
    "%%time\n",
    "z.count()\n",
    "z.show(10)"
   ]
  },
  {
   "cell_type": "code",
   "execution_count": 33,
   "id": "a94187f5-19d4-444a-bf7f-f3db71019579",
   "metadata": {},
   "outputs": [
    {
     "data": {
      "text/plain": [
       "DataFrame[MSO: int, device_id: string, playback_date: int, unk: int, unk2: int, station_num: string]"
      ]
     },
     "execution_count": 33,
     "metadata": {},
     "output_type": "execute_result"
    }
   ],
   "source": [
    "z"
   ]
  },
  {
   "cell_type": "code",
   "execution_count": null,
   "id": "b12ab263-d2c4-48eb-a5d5-0b714fa716ba",
   "metadata": {},
   "outputs": [],
   "source": []
  }
 ],
 "metadata": {
  "kernelspec": {
   "display_name": "Python 3 (ipykernel)",
   "language": "python",
   "name": "python3"
  },
  "language_info": {
   "codemirror_mode": {
    "name": "ipython",
    "version": 3
   },
   "file_extension": ".py",
   "mimetype": "text/x-python",
   "name": "python",
   "nbconvert_exporter": "python",
   "pygments_lexer": "ipython3",
   "version": "3.9.7"
  }
 },
 "nbformat": 4,
 "nbformat_minor": 5
}
