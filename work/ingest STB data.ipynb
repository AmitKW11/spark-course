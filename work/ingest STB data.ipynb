{
 "cells": [
  {
   "cell_type": "markdown",
   "id": "914ed86a-9422-40f6-aa26-72858d66075d",
   "metadata": {},
   "source": [
    "### Read {CSV,XML} files of FWM Set top box (STB) data into dataframes\n",
    "\n",
    "Read a file list into a DF, write it to a parquet file .\n",
    "\n",
    "Noam 2023-03-06\n"
   ]
  },
  {
   "cell_type": "code",
   "execution_count": 1,
   "id": "780e03c3-6d21-462a-bcbc-0ce4d2779b5c",
   "metadata": {},
   "outputs": [],
   "source": [
    "import pyspark\n",
    "from pyspark.sql import SparkSession\n",
    "from pyspark.sql.types import*\n",
    "\n",
    "spark = SparkSession.builder.appName('fwm').getOrCreate()\n",
    "sc = spark.sparkContext"
   ]
  },
  {
   "cell_type": "code",
   "execution_count": 2,
   "id": "a63e1c67-1e44-4942-817b-ebc725baba57",
   "metadata": {
    "tags": []
   },
   "outputs": [],
   "source": [
    "# Read a CSV into a dataframe\n",
    "def load_PD_file(filename, schema = None) :\n",
    "    dataPath = \"/datasets/Fourthwall_STB_data/\" + filename\n",
    "    dfreader = spark.read.format(\"csv\")\\\n",
    "      .option(\"header\",\"false\")\\\n",
    "      .option(\"delimiter\", \"|\")\n",
    "    if schema:\n",
    "        dfreader = dfreader.schema(schema)\n",
    "    return dfreader.load(dataPath)\n",
    "  \n",
    "# inferSchema means we will automatically figure out column types \n",
    "# at a cost of reading the data more than once"
   ]
  },
  {
   "cell_type": "code",
   "execution_count": 3,
   "id": "26d89ac5-46a0-4a8c-9668-4d3a31a79707",
   "metadata": {
    "tags": []
   },
   "outputs": [],
   "source": [
    "schema =  StructType([StructField('prog_code',StringType()),\n",
    "                     StructField('title',StringType()),\n",
    "                     StructField('genre',StringType()),\n",
    "                     StructField('air_date',StringType()),\n",
    "                     StructField('air_time',StringType()),\n",
    "                     StructField('Duration',FloatType())\n",
    "                                       ])\n",
    "x = load_PD_file(\"SintecMedia.rpt_programs.date_2015-12-30.2016-11-29.pd\", schema  )\n",
    "              "
   ]
  },
  {
   "cell_type": "code",
   "execution_count": 4,
   "id": "4d006ab8-e696-4c96-adac-d2e387608ab0",
   "metadata": {
    "tags": []
   },
   "outputs": [
    {
     "name": "stdout",
     "output_type": "stream",
     "text": [
      "root\n",
      " |-- prog_code: string (nullable = true)\n",
      " |-- title: string (nullable = true)\n",
      " |-- genre: string (nullable = true)\n",
      " |-- air_date: string (nullable = true)\n",
      " |-- air_time: string (nullable = true)\n",
      " |-- Duration: float (nullable = true)\n",
      "\n",
      "root\n",
      " |-- prog_code: string (nullable = true)\n",
      " |-- title: string (nullable = true)\n",
      " |-- genre: string (nullable = true)\n",
      " |-- air_time: string (nullable = true)\n",
      " |-- Duration: float (nullable = true)\n",
      " |-- airdate: date (nullable = true)\n",
      " |-- airtime: float (nullable = true)\n",
      "\n",
      "+--------------+-----------------+-----------+--------+--------+----------+-------+\n",
      "|     prog_code|            title|      genre|air_time|Duration|   airdate|airtime|\n",
      "+--------------+-----------------+-----------+--------+--------+----------+-------+\n",
      "|EP000000510016|A Different World|     Sitcom|  140000|    30.0|2015-01-30|   null|\n",
      "|EP000000510017|A Different World|     Sitcom|  143000|    30.0|2015-01-30|   null|\n",
      "|EP000000510027|A Different World|     Sitcom|  220000|    30.0|2015-01-30|   null|\n",
      "|EP000000510029|A Different World|     Sitcom|  223000|    30.0|2015-01-30|   null|\n",
      "|EP000001130151|          Adam-12|Crime drama|  173000|    30.0|2015-01-30|   null|\n",
      "+--------------+-----------------+-----------+--------+--------+----------+-------+\n",
      "only showing top 5 rows\n",
      "\n"
     ]
    }
   ],
   "source": [
    "from pyspark.sql.functions import col,to_date,udf\n",
    "def strtime_to_fload(val:str)-> float:\n",
    "    h = 66# int(val)//10000\n",
    "    #m = h /100\n",
    "    return h\n",
    "to_float_time = udf(strtime_to_fload, FloatType())\n",
    "\n",
    "x.printSchema()\n",
    "x2 = x.withColumn('airdate',to_date(col('air_date'),'yyyymmdd'))\\\n",
    "      .withColumn('airtime',to_float_time(col('air_time')))\\\n",
    "      .drop('air_date')\n",
    "x2.printSchema()\n",
    "x2.show(5)"
   ]
  },
  {
   "cell_type": "code",
   "execution_count": 5,
   "id": "bfb7c885-6297-444e-bb88-24620423ad4e",
   "metadata": {
    "tags": []
   },
   "outputs": [
    {
     "name": "stdout",
     "output_type": "stream",
     "text": [
      "root\n",
      " |-- _c0: string (nullable = true)\n",
      " |-- _c1: string (nullable = true)\n",
      " |-- _c2: string (nullable = true)\n",
      " |-- _c3: string (nullable = true)\n",
      " |-- _c4: string (nullable = true)\n",
      " |-- _c5: string (nullable = true)\n",
      " |-- _c6: string (nullable = true)\n",
      " |-- _c7: string (nullable = true)\n",
      "\n",
      "+-----+------------+--------+------+---+-----+-------+-----+\n",
      "|  _c0|         _c1|     _c2|   _c3|_c4|  _c5|    _c6|  _c7|\n",
      "+-----+------------+--------+------+---+-----+-------+-----+\n",
      "|01540|0000000050f3|20151229|094118|  T|  923| SMUS27|67563|\n",
      "|01540|0000000050f3|20151229|094150|  T|65532|UNKNOWN|99993|\n",
      "|01540|0000000050f3|20151229|101200|  T|  923| SMUS27|67563|\n",
      "|01540|0000000050f3|20151229|101453|  T|65532|UNKNOWN|99993|\n",
      "|01540|0000000050f3|20151229|113616|  T|  923| SMUS27|67563|\n",
      "|01540|0000000050f3|20151229|113625|  T|65532|UNKNOWN|99993|\n",
      "|01540|0000000050f3|20151229|113630|  T|  923| SMUS27|67563|\n",
      "|01540|0000000050f3|20151229|121842|  T|65532|UNKNOWN|99993|\n",
      "|01540|0000000050f3|20151229|131252|  T|  923| SMUS27|67563|\n",
      "|01540|0000000050f3|20151229|131309|  O|    0|    OFF| null|\n",
      "+-----+------------+--------+------+---+-----+-------+-----+\n",
      "only showing top 10 rows\n",
      "\n"
     ]
    }
   ],
   "source": [
    "y = load_PD_file(\"FWM_20151229_R.pd\")\n",
    "y.printSchema()\n",
    "y.show(10)"
   ]
  },
  {
   "cell_type": "code",
   "execution_count": 6,
   "id": "ef8e5328-9624-4231-b2e0-21669c9c4f90",
   "metadata": {
    "tags": []
   },
   "outputs": [
    {
     "name": "stdout",
     "output_type": "stream",
     "text": [
      "root\n",
      " |-- _c0: string (nullable = true)\n",
      " |-- _c1: string (nullable = true)\n",
      " |-- _c2: string (nullable = true)\n",
      " |-- _c3: string (nullable = true)\n",
      " |-- _c4: string (nullable = true)\n",
      " |-- _c5: string (nullable = true)\n",
      "\n",
      "+-----+------------+-------------+------+-----+--------------+\n",
      "|  MSO|   device_id|playback_date|   unk| unk2|   station_num|\n",
      "+-----+------------+-------------+------+-----+--------------+\n",
      "|01540|0000000050f3|     20151226|202215|68678|SH018614720000|\n",
      "|01540|0000000050f3|     20151226|202232|72772|SP003217880000|\n",
      "|01540|0000000050f3|     20151226|202257|36205|EP015685700032|\n",
      "|01540|0000000050f3|     20151226|210000|36205|EP002036520381|\n",
      "|01540|0000000057f6|     20151226|000000|11590|EP005927330225|\n",
      "|01540|0000000057f6|     20151226|072616|11590|SH016004130000|\n",
      "|01540|0000000057f6|     20151226|072648|11628|EP019152141537|\n",
      "|01540|0000000057f6|     20151226|075815|11590|SH016004130000|\n",
      "|01540|0000000057f6|     20151226|075836|11428|EP000018937336|\n",
      "|01540|0000000057f6|     20151226|075914|74183|MV001574260000|\n",
      "+-----+------------+-------------+------+-----+--------------+\n",
      "only showing top 10 rows\n",
      "\n",
      "CPU times: user 4.22 ms, sys: 2.34 ms, total: 6.56 ms\n",
      "Wall time: 357 ms\n"
     ]
    }
   ],
   "source": [
    "%%time\n",
    "z = load_PD_file(\"SintecMedia.rpt_prog_view.date_2015-12-26.2016-11-29.pd\")\n",
    "z.printSchema()\n",
    "z = z.toDF(*['MSO','device_id','playback_date','unk','unk2', 'station_num'])\n",
    "z.show(10)"
   ]
  },
  {
   "cell_type": "raw",
   "id": "4a353dc5-e793-4fda-9cb8-adcd01967584",
   "metadata": {},
   "source": [
    "%%time \n",
    "z.write.parquet(\"../data/prog_view.parquet\")\n"
   ]
  },
  {
   "cell_type": "code",
   "execution_count": 7,
   "id": "ea48d113-58b5-4fba-b475-aaa2ef288a9a",
   "metadata": {},
   "outputs": [
    {
     "name": "stdout",
     "output_type": "stream",
     "text": [
      "CPU times: user 3.73 ms, sys: 1.59 ms, total: 5.32 ms\n",
      "Wall time: 416 ms\n"
     ]
    }
   ],
   "source": [
    "%%time \n",
    "z = spark.read.parquet(\"../data/prog_view.parquet\")"
   ]
  },
  {
   "cell_type": "code",
   "execution_count": 8,
   "id": "8bb48266-5bce-4270-b7aa-95da1918ea81",
   "metadata": {},
   "outputs": [
    {
     "name": "stdout",
     "output_type": "stream",
     "text": [
      "+-----+------------+-------------+------+-----+--------------+\n",
      "|  MSO|   device_id|playback_date|   unk| unk2|   station_num|\n",
      "+-----+------------+-------------+------+-----+--------------+\n",
      "|08360|001bd75e12e3|     20151226|063440|11713|SH007227490000|\n",
      "|08360|001bd75e12e3|     20151226|070000|11713|SH007227490000|\n",
      "|08360|001bd75e12e3|     20151226|080000|11713|EP000018937336|\n",
      "|08360|001bd75e12e3|     20151226|182527|11713|EP000009937693|\n",
      "|08360|001bd75e12e3|     20151226|182608|49603|EP021213560001|\n",
      "|08360|001bd75e12e3|     20151226|183000|49603|EP021213560002|\n",
      "|08360|001bd75e12e3|     20151226|184055|14902|EP017277730029|\n",
      "|08360|001bd75e12e3|     20151226|190000|14902|EP020481370022|\n",
      "|08360|001bd75e12e3|     20151226|193000|14902|EP020481370014|\n",
      "|08360|001bd75e12e3|     20151226|195448|14909|EP013320550286|\n",
      "+-----+------------+-------------+------+-----+--------------+\n",
      "only showing top 10 rows\n",
      "\n",
      "CPU times: user 1.85 ms, sys: 1.02 ms, total: 2.87 ms\n",
      "Wall time: 1.09 s\n"
     ]
    }
   ],
   "source": [
    "%%time\n",
    "z.count()\n",
    "z.show(10)"
   ]
  },
  {
   "cell_type": "code",
   "execution_count": 9,
   "id": "a94187f5-19d4-444a-bf7f-f3db71019579",
   "metadata": {},
   "outputs": [
    {
     "data": {
      "text/plain": [
       "DataFrame[MSO: string, device_id: string, playback_date: string, unk: string, unk2: string, station_num: string]"
      ]
     },
     "execution_count": 9,
     "metadata": {},
     "output_type": "execute_result"
    }
   ],
   "source": [
    "z"
   ]
  },
  {
   "cell_type": "markdown",
   "id": "043e4f63-16e6-4c93-9f1a-7cbd65f8a367",
   "metadata": {},
   "source": [
    "# Read from an XML file\n",
    "\n",
    "To read XML file, a library is needed in the cluster. The installation procedure depends on the cluster you have - e.g. Databricks or standlone.\n",
    "\n",
    "Once the data is read into the dataframe, you can do anything with it -- such as save it to Parquet format for repeated use."
   ]
  },
  {
   "cell_type": "raw",
   "id": "18de498b-2f03-47e3-a9fd-4b80b665c6bd",
   "metadata": {},
   "source": [
    "fname = \"dbfs:/mnt/ddscoursedatastorage/fwm-stb-data/refxml/SintecMedia.rpt_refxml.date_2015-01-01.2016-11-21.xml.gz\"\n",
    "\n",
    "df = spark.read.format(\"xml\").option(\"compression\",\"gzip\").option(\"rowTag\", \"mapping\").load(fname)"
   ]
  }
 ],
 "metadata": {
  "kernelspec": {
   "display_name": "Python 3 (ipykernel)",
   "language": "python",
   "name": "python3"
  },
  "language_info": {
   "codemirror_mode": {
    "name": "ipython",
    "version": 3
   },
   "file_extension": ".py",
   "mimetype": "text/x-python",
   "name": "python",
   "nbconvert_exporter": "python",
   "pygments_lexer": "ipython3",
   "version": "3.9.10"
  }
 },
 "nbformat": 4,
 "nbformat_minor": 5
}
