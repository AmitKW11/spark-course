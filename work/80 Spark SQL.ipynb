{
 "cells": [
  {
   "cell_type": "markdown",
   "id": "d5be6af7-d0de-46cd-8cc4-b67901e9e048",
   "metadata": {},
   "source": [
    "# Spark SQL"
   ]
  }
 ],
 "metadata": {
  "kernelspec": {
   "display_name": "Python 3 (ipykernel)",
   "language": "python",
   "name": "python3"
  },
  "language_info": {
   "codemirror_mode": {
    "name": "ipython",
    "version": 3
   },
   "file_extension": ".py",
   "mimetype": "text/x-python",
   "name": "python",
   "nbconvert_exporter": "python",
   "pygments_lexer": "ipython3",
   "version": "3.9.7"
  }
 },
 "nbformat": 4,
 "nbformat_minor": 5
}
