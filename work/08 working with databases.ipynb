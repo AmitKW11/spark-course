{
 "cells": [
  {
   "cell_type": "markdown",
   "id": "7f1c5011-8e4a-46e8-a52e-80d5178ae39b",
   "metadata": {
    "tags": []
   },
   "source": [
    "# Working with a Database\n",
    "\n",
    "## Reading/Writing from RDBMS"
   ]
  },
  {
   "cell_type": "raw",
   "id": "214712ca-68da-4270-9861-0519f55aeca1",
   "metadata": {},
   "source": [
    "server_name = \"jdbc:sqlserver://technionddscourse.database.windows.net:1433\"\n",
    "database_name = \"weather\"\n",
    "url = server_name + \";\" + \"databaseName=\" + database_name + \";\"\n",
    "stations_table = \"Stations\"\n",
    "inventory_table = \"Inventory\"\n",
    "username = \"your_db_name_here\"\n",
    "password = \"1234\"\n",
    "\n",
    "jdbcDF = spark.read\\\n",
    "    .format(\"jdbc\")\\\n",
    "    .option(\"url\", url)\\\n",
    "    .option(\"dbtable\", table_name)\\\n",
    "    .option(\"user\", username)\\\n",
    "    .option(\"password\", password).load()"
   ]
  },
  {
   "cell_type": "raw",
   "id": "645259ab-9ef7-4f43-a973-5dfc2d485333",
   "metadata": {},
   "source": [
    "\n",
    "try:\n",
    "    stations.write \\\n",
    "        .format(\"jdbc\") \\\n",
    "        .mode(\"append\") \\\n",
    "        .option(\"url\", url) \\\n",
    "        .option(\"dbtable\", stations_table) \\\n",
    "        .option(\"user\", username) \\\n",
    "        .option(\"password\", password) \\\n",
    "        .save()\n",
    "except ValueError as error:\n",
    "    print(\"Connector write failed\", error)\n",
    "    "
   ]
  },
  {
   "cell_type": "markdown",
   "id": "a39d8d2d-77b3-42f0-9560-99198b96d898",
   "metadata": {},
   "source": [
    "# Reading / Writing to other databses\n",
    "\n",
    "In the lesson on Streaming we read from Kafka source.\n",
    "Simlarly, we can read from other sources such as mongodb using a *connector* supplied by the database vendor\n",
    "    "
   ]
  },
  {
   "cell_type": "raw",
   "id": "2ec58d92-e413-4b8a-9589-5abfee323018",
   "metadata": {},
   "source": [
    "df = spark.read.format(\"mongo\").option(\"uri\",\n",
    "\"mongodb://127.0.0.1/people.contacts\").load()"
   ]
  },
  {
   "cell_type": "markdown",
   "id": "b0eec6dd-b78d-4d00-960d-6981f9cdf218",
   "metadata": {},
   "source": [
    "<br>This will write to a default container in the database you connected to before"
   ]
  },
  {
   "cell_type": "code",
   "execution_count": null,
   "id": "facf83d2-3aef-4671-8266-c8ab32cd8d95",
   "metadata": {},
   "outputs": [],
   "source": [
    "people = spark.createDataFrame([(\"Bilbo Baggins\",  50), (\"Gandalf\", 1000)], [\"name\", \"age\"])\n",
    "people.write.format(\"mongo\").mode(\"append\").save()"
   ]
  }
 ],
 "metadata": {
  "kernelspec": {
   "display_name": "Python 3 (ipykernel)",
   "language": "python",
   "name": "python3"
  },
  "language_info": {
   "codemirror_mode": {
    "name": "ipython",
    "version": 3
   },
   "file_extension": ".py",
   "mimetype": "text/x-python",
   "name": "python",
   "nbconvert_exporter": "python",
   "pygments_lexer": "ipython3",
   "version": "3.9.7"
  }
 },
 "nbformat": 4,
 "nbformat_minor": 5
}
