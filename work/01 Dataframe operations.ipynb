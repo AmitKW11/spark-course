{
 "cells": [
  {
   "cell_type": "markdown",
   "id": "914ed86a-9422-40f6-aa26-72858d66075d",
   "metadata": {
    "pycharm": {
     "name": "#%% md\n"
    }
   },
   "source": [
    "# DataFrame Operations\n",
    "\n",
    "[**Watch the video**](https://panoptotech.cloud.panopto.eu/Panopto/Pages/Viewer.aspx?id=45909ccc-decb-4a40-95f4-afa8014bbc0f)\n"
   ]
  },
  {
   "cell_type": "code",
   "execution_count": 1,
   "id": "780e03c3-6d21-462a-bcbc-0ce4d2779b5c",
   "metadata": {
    "pycharm": {
     "name": "#%%\n"
    }
   },
   "outputs": [],
   "source": [
    "import pyspark\n",
    "from pyspark.sql import SparkSession\n",
    "from pyspark.sql.types import*\n",
    "\n",
    "spark = SparkSession.builder.appName('DataFrame Operations').getOrCreate()\n",
    "sc = spark.sparkContext"
   ]
  },
  {
   "cell_type": "code",
   "execution_count": 5,
   "id": "a63e1c67-1e44-4942-817b-ebc725baba57",
   "metadata": {
    "tags": [],
    "pycharm": {
     "name": "#%%\n"
    }
   },
   "outputs": [],
   "source": [
    "# Read a CSV into a dataframe, inferring the schema.\n",
    "\n",
    "# The decompression of gzip is automatic\n",
    "dataPath = \"../data/Open_Parking_and_Camera_Violations_1M.csv.gz\"\n",
    "fines = spark.read.format(\"csv\")\\\n",
    "  .option(\"header\",\"true\")\\\n",
    "  .option(\"inferSchema\", \"true\")\\\n",
    "  .load(dataPath)\n",
    "  \n",
    "# inferSchema means we will automatically figure out column types \n",
    "# at a cost of reading the data more than once"
   ]
  },
  {
   "cell_type": "code",
   "execution_count": 6,
   "id": "3ff5e9dc-9173-437c-a97e-6bb618458ac3",
   "metadata": {
    "tags": [],
    "pycharm": {
     "name": "#%%\n"
    }
   },
   "outputs": [
    {
     "name": "stdout",
     "output_type": "stream",
     "text": [
      "root\n",
      " |-- Plate: string (nullable = true)\n",
      " |-- State: string (nullable = true)\n",
      " |-- License Type: string (nullable = true)\n",
      " |-- Summons Number: long (nullable = true)\n",
      " |-- Issue Date: string (nullable = true)\n",
      " |-- Violation Time: string (nullable = true)\n",
      " |-- Violation: string (nullable = true)\n",
      " |-- Judgment Entry Date: string (nullable = true)\n",
      " |-- Fine Amount: double (nullable = true)\n",
      " |-- Penalty Amount: double (nullable = true)\n",
      " |-- Interest Amount: double (nullable = true)\n",
      " |-- Reduction Amount: double (nullable = true)\n",
      " |-- Payment Amount: double (nullable = true)\n",
      " |-- Amount Due: double (nullable = true)\n",
      " |-- Precinct: integer (nullable = true)\n",
      " |-- County: string (nullable = true)\n",
      " |-- Issuing Agency: string (nullable = true)\n",
      " |-- Violation Status: string (nullable = true)\n",
      " |-- Summons Image: string (nullable = true)\n",
      "\n"
     ]
    }
   ],
   "source": [
    "fines.printSchema()"
   ]
  },
  {
   "cell_type": "code",
   "execution_count": 7,
   "id": "3e9141ed-35a5-403e-81b6-adcf2472eaea",
   "metadata": {
    "pycharm": {
     "name": "#%%\n"
    }
   },
   "outputs": [
    {
     "data": {
      "text/plain": [
       "StructType(List(StructField(Plate,StringType,true),StructField(State,StringType,true),StructField(License Type,StringType,true),StructField(Summons Number,LongType,true),StructField(Issue Date,StringType,true),StructField(Violation Time,StringType,true),StructField(Violation,StringType,true),StructField(Judgment Entry Date,StringType,true),StructField(Fine Amount,DoubleType,true),StructField(Penalty Amount,DoubleType,true),StructField(Interest Amount,DoubleType,true),StructField(Reduction Amount,DoubleType,true),StructField(Payment Amount,DoubleType,true),StructField(Amount Due,DoubleType,true),StructField(Precinct,IntegerType,true),StructField(County,StringType,true),StructField(Issuing Agency,StringType,true),StructField(Violation Status,StringType,true),StructField(Summons Image,StringType,true)))"
      ]
     },
     "execution_count": 7,
     "metadata": {},
     "output_type": "execute_result"
    }
   ],
   "source": [
    "# A schema is a StructType made up of a number of fields, StructFields, that have a name, type, and a Boolean flag which specifies whether that column can contain missing or null values.\n",
    "fines.schema"
   ]
  },
  {
   "cell_type": "code",
   "execution_count": 8,
   "id": "628fb79a-3c3d-4b83-98cf-8428414b8a07",
   "metadata": {
    "pycharm": {
     "name": "#%%\n"
    }
   },
   "outputs": [
    {
     "name": "stdout",
     "output_type": "stream",
     "text": [
      "+-------+-----+------------+--------------+----------+--------------+----------------+-------------------+-----------+--------------+---------------+----------------+--------------+----------+--------+------+-----------------+----------------+--------------------+\n",
      "|  Plate|State|License Type|Summons Number|Issue Date|Violation Time|       Violation|Judgment Entry Date|Fine Amount|Penalty Amount|Interest Amount|Reduction Amount|Payment Amount|Amount Due|Precinct|County|   Issuing Agency|Violation Status|       Summons Image|\n",
      "+-------+-----+------------+--------------+----------+--------------+----------------+-------------------+-----------+--------------+---------------+----------------+--------------+----------+--------+------+-----------------+----------------+--------------------+\n",
      "|1994439|   ME|         PAS|    1438400834|06/05/2018|        07:58A|DETACHED TRAILER|               null|       45.0|          10.0|            0.0|             0.0|           0.0|      55.0|      94|     K|POLICE DEPARTMENT| HEARING PENDING|View Summons (htt...|\n",
      "|GJK1149|   NY|         PAS|    8836261050|09/14/2020|        04:34P|       CROSSWALK|               null|      115.0|           0.0|            0.0|             0.0|         115.0|       0.0|      46|    BX|          TRAFFIC|            null|View Summons (htt...|\n",
      "+-------+-----+------------+--------------+----------+--------------+----------------+-------------------+-----------+--------------+---------------+----------------+--------------+----------+--------+------+-----------------+----------------+--------------------+\n",
      "only showing top 2 rows\n",
      "\n"
     ]
    }
   ],
   "source": [
    "fines.show(2)"
   ]
  },
  {
   "cell_type": "code",
   "execution_count": 9,
   "id": "bc4c4ba5-4b33-4188-9ebc-ff9b50fc2d38",
   "metadata": {
    "pycharm": {
     "name": "#%%\n"
    }
   },
   "outputs": [
    {
     "name": "stdout",
     "output_type": "stream",
     "text": [
      "+-------+--------------------+\n",
      "|  Plate|           Violation|\n",
      "+-------+--------------------+\n",
      "|1994439|    DETACHED TRAILER|\n",
      "|GJK1149|           CROSSWALK|\n",
      "|HXP4226|REG. STICKER-EXPI...|\n",
      "|1742308|    DETACHED TRAILER|\n",
      "| RR2L42|NO STANDING-DAY/T...|\n",
      "+-------+--------------------+\n",
      "only showing top 5 rows\n",
      "\n"
     ]
    }
   ],
   "source": [
    "fines.select(['Plate', 'Violation']).show(5)"
   ]
  },
  {
   "cell_type": "markdown",
   "id": "6a720e61-5da4-49d9-9266-eee5123591bd",
   "metadata": {
    "pycharm": {
     "name": "#%% md\n"
    }
   },
   "source": [
    "Let's see how to manually specify a known schema for a data file, so we can skip the costly \"Infer Schema\":\n",
    "\n"
   ]
  },
  {
   "cell_type": "code",
   "execution_count": 10,
   "id": "3a4127c6-c3e7-4906-ab45-4e8716b2c667",
   "metadata": {
    "tags": [],
    "pycharm": {
     "name": "#%%\n"
    }
   },
   "outputs": [
    {
     "name": "stdout",
     "output_type": "stream",
     "text": [
      "root\n",
      " |-- Plate: string (nullable = true)\n",
      " |-- State: string (nullable = true)\n",
      " |-- License Type: string (nullable = true)\n",
      " |-- Summons Number: integer (nullable = true)\n",
      " |-- Issue Date: string (nullable = true)\n",
      " |-- Violation Time: string (nullable = true)\n",
      " |-- Violation: string (nullable = true)\n",
      " |-- Judgment Entry Date: string (nullable = true)\n",
      " |-- Fine Amount: double (nullable = true)\n",
      " |-- Penalty Amount: double (nullable = true)\n",
      " |-- Interest Amount: double (nullable = true)\n",
      " |-- Reduction Amount: double (nullable = true)\n",
      " |-- Payment Amount: double (nullable = true)\n",
      " |-- Amount Due: double (nullable = true)\n",
      " |-- Precinct: integer (nullable = true)\n",
      " |-- County: string (nullable = true)\n",
      " |-- Issuing Agency: string (nullable = true)\n",
      " |-- Violation Status: string (nullable = true)\n",
      " |-- Summons Image: string (nullable = true)\n",
      "\n"
     ]
    }
   ],
   "source": [
    "from pyspark.sql.types import StructField, StructType, StringType, DoubleType, IntegerType\n",
    "\n",
    "schema = StructType([StructField('Plate',StringType(), True),\n",
    "                     StructField('State',StringType(),True),\n",
    "                     StructField('License Type',StringType()),\n",
    "                     StructField('Summons Number',IntegerType()),\n",
    "                     StructField('Issue Date',StringType()),\n",
    "                     StructField('Violation Time',StringType()),\n",
    "                     StructField('Violation',StringType()),\n",
    "                     StructField('Judgment Entry Date',StringType()),\n",
    "                     StructField('Fine Amount',DoubleType(),True),\n",
    "                     StructField('Penalty Amount',DoubleType(),True),\n",
    "                     StructField('Interest Amount',DoubleType(),True),\n",
    "                     StructField('Reduction Amount',DoubleType(),True),\n",
    "                     StructField('Payment Amount',DoubleType(),True),\n",
    "                     StructField('Amount Due',DoubleType(),True),\n",
    "                     StructField('Precinct',IntegerType(),True),\n",
    "                     StructField('County',StringType(),True),\n",
    "                     StructField('Issuing Agency',StringType(),True),\n",
    "                     StructField('Violation Status',StringType(),True),\n",
    "                     StructField('Summons Image',StringType(),True)])\n",
    "\n",
    "\n",
    "fine2 = spark.read.format(\"csv\")\\\n",
    "  .option(\"header\",\"true\")\\\n",
    "  .schema(schema)\\\n",
    "  .load(dataPath)\n",
    "\n",
    "fine2.printSchema()\n",
    "#fine2.show(5)"
   ]
  },
  {
   "cell_type": "markdown",
   "id": "581d6bb9-923d-42c7-90f7-1a69a7d7fbad",
   "metadata": {
    "pycharm": {
     "name": "#%% md\n"
    }
   },
   "source": [
    "\n",
    "Now that we've explored the data, let's return to understanding\n",
    "**transformations** and **actions**.  \n",
    "Let's create several transformations and then an action. After that we\n",
    "will inspect exactly what's happening under the hood.\n",
    "\n",
    "These transformations are simple, first we group by two variables and then compute the average fine.\n",
    "Then we're going to inner join that to the original dataset on the column State.\n",
    "Then we'll select the Violation Status from that new dataset."
   ]
  },
  {
   "cell_type": "code",
   "execution_count": 11,
   "id": "e957bb4b-c199-4866-bba2-15a77b864271",
   "metadata": {
    "pycharm": {
     "name": "#%%\n"
    }
   },
   "outputs": [
    {
     "name": "stdout",
     "output_type": "stream",
     "text": [
      "+-----+--------------------+-----------------+\n",
      "|State|           Violation| avg(Fine Amount)|\n",
      "+-----+--------------------+-----------------+\n",
      "|   NC|OBSTRUCTING DRIVEWAY|94.95652173913044|\n",
      "|   PA|FAILURE TO STOP A...|             50.0|\n",
      "|   FL|FRONT OR BACK PLA...|             65.0|\n",
      "|   MO|NO STANDING-BUS STOP|            115.0|\n",
      "|   TX|NO STANDING-BUS LANE|            115.0|\n",
      "|   CT|        TRAFFIC LANE|            115.0|\n",
      "|   AL|           CROSSWALK|            115.0|\n",
      "|   MN|    DETACHED TRAILER|             45.0|\n",
      "|   MS|NO PARKING-DAY/TI...|           60.625|\n",
      "|   CT|BUS PARKING IN LO...|            102.5|\n",
      "+-----+--------------------+-----------------+\n",
      "only showing top 10 rows\n",
      "\n",
      "+-------+----------------+----------------+\n",
      "|  Plate|       Violation|Violation Status|\n",
      "+-------+----------------+----------------+\n",
      "|1994439|DETACHED TRAILER| HEARING PENDING|\n",
      "|1994439|DETACHED TRAILER| HEARING PENDING|\n",
      "|1994439|DETACHED TRAILER| HEARING PENDING|\n",
      "|1994439|DETACHED TRAILER| HEARING PENDING|\n",
      "|1994439|DETACHED TRAILER| HEARING PENDING|\n",
      "|1994439|DETACHED TRAILER| HEARING PENDING|\n",
      "|1994439|DETACHED TRAILER| HEARING PENDING|\n",
      "|1994439|DETACHED TRAILER| HEARING PENDING|\n",
      "|1994439|DETACHED TRAILER| HEARING PENDING|\n",
      "|1994439|DETACHED TRAILER| HEARING PENDING|\n",
      "+-------+----------------+----------------+\n",
      "only showing top 10 rows\n",
      "\n"
     ]
    }
   ],
   "source": [
    "# a simple grouping\n",
    "df1 = fines.groupBy([\"State\",\"Violation\"]).avg(\"Fine Amount\") \n",
    "\n",
    "# a simple join and selecting some columns\n",
    "df2 = df1.join(fines, on=[\"Violation\"], how='inner').select([\"Plate\",\"Violation\",\"Violation Status\"])\n",
    "\n",
    "df1.show(10)\n",
    "df2.show(10)"
   ]
  },
  {
   "cell_type": "code",
   "execution_count": null,
   "outputs": [],
   "source": [
    "#sort df2 by Violation Status and show only unique Violation Status\n",
    "df2.sort(\"Violation Status\").select(\"Violation Status\").distinct().show()\n",
    "#show the fine amount for each violation status\n",
    "df2.groupBy(\"Violation Status\").avg(\"Fine Amount\").show()\n",
    "# what is the average fine amount for each violation status for each state?\n",
    "df2.groupBy([\"State\",\"Violation Status\"]).avg(\"Fine Amount\").show()\n",
    "\n",
    "df2.limit(1000).toPandas().memory_usage() # how much memory does this take? returns 800"
   ],
   "metadata": {
    "collapsed": false,
    "pycharm": {
     "name": "#%%\n"
    }
   }
  },
  {
   "cell_type": "code",
   "execution_count": 12,
   "id": "e815c47b-1bb4-40d5-9057-de46ba5a29f8",
   "metadata": {
    "pycharm": {
     "name": "#%%\n"
    }
   },
   "outputs": [
    {
     "name": "stdout",
     "output_type": "stream",
     "text": [
      "== Physical Plan ==\n",
      "AdaptiveSparkPlan isFinalPlan=false\n",
      "+- Project [Plate#279, Violation#76, Violation Status#296]\n",
      "   +- BroadcastHashJoin [Violation#76], [Violation#285], Inner, BuildLeft, false\n",
      "      :- BroadcastExchange HashedRelationBroadcastMode(List(input[0, string, true]),false), [id=#279]\n",
      "      :  +- HashAggregate(keys=[State#71, Violation#76], functions=[])\n",
      "      :     +- Exchange hashpartitioning(State#71, Violation#76, 200), ENSURE_REQUIREMENTS, [id=#276]\n",
      "      :        +- HashAggregate(keys=[State#71, Violation#76], functions=[])\n",
      "      :           +- Filter isnotnull(Violation#76)\n",
      "      :              +- FileScan csv [State#71,Violation#76] Batched: false, DataFilters: [isnotnull(Violation#76)], Format: CSV, Location: InMemoryFileIndex(1 paths)[file:/home/jovyan/data/Open_Parking_and_Camera_Violations_1M.csv.gz], PartitionFilters: [], PushedFilters: [IsNotNull(Violation)], ReadSchema: struct<State:string,Violation:string>\n",
      "      +- Filter isnotnull(Violation#285)\n",
      "         +- FileScan csv [Plate#279,Violation#285,Violation Status#296] Batched: false, DataFilters: [isnotnull(Violation#285)], Format: CSV, Location: InMemoryFileIndex(1 paths)[file:/home/jovyan/data/Open_Parking_and_Camera_Violations_1M.csv.gz], PartitionFilters: [], PushedFilters: [IsNotNull(Violation)], ReadSchema: struct<Plate:string,Violation:string,Violation Status:string>\n",
      "\n",
      "\n"
     ]
    }
   ],
   "source": [
    "df2.explain()   "
   ]
  },
  {
   "cell_type": "code",
   "execution_count": 13,
   "id": "4ea6f5ea-005d-48dd-b91d-a529f237393d",
   "metadata": {
    "pycharm": {
     "name": "#%%\n"
    }
   },
   "outputs": [
    {
     "data": {
      "text/plain": [
       "55577292"
      ]
     },
     "execution_count": 13,
     "metadata": {},
     "output_type": "execute_result"
    }
   ],
   "source": [
    "# This will execute the plan that Apache Spark built up previously. \n",
    "df2.count()"
   ]
  },
  {
   "cell_type": "code",
   "execution_count": 23,
   "id": "59df5682-69cd-495e-934d-b913dbc42972",
   "metadata": {
    "pycharm": {
     "name": "#%%\n"
    }
   },
   "outputs": [
    {
     "data": {
      "text/html": [
       "<div>\n",
       "<style scoped>\n",
       "    .dataframe tbody tr th:only-of-type {\n",
       "        vertical-align: middle;\n",
       "    }\n",
       "\n",
       "    .dataframe tbody tr th {\n",
       "        vertical-align: top;\n",
       "    }\n",
       "\n",
       "    .dataframe thead th {\n",
       "        text-align: right;\n",
       "    }\n",
       "</style>\n",
       "<table border=\"1\" class=\"dataframe\">\n",
       "  <thead>\n",
       "    <tr style=\"text-align: right;\">\n",
       "      <th></th>\n",
       "      <th>Plate</th>\n",
       "      <th>Violation</th>\n",
       "      <th>Violation Status</th>\n",
       "    </tr>\n",
       "  </thead>\n",
       "  <tbody>\n",
       "    <tr>\n",
       "      <th>0</th>\n",
       "      <td>51126JU</td>\n",
       "      <td>DOUBLE PARKING</td>\n",
       "      <td>HEARING HELD-GUILTY REDUCTION</td>\n",
       "    </tr>\n",
       "    <tr>\n",
       "      <th>1</th>\n",
       "      <td>TUX21W</td>\n",
       "      <td>BUS LANE VIOLATION</td>\n",
       "      <td>None</td>\n",
       "    </tr>\n",
       "    <tr>\n",
       "      <th>2</th>\n",
       "      <td>HJYA96</td>\n",
       "      <td>FAIL TO DSPLY MUNI METER RECPT</td>\n",
       "      <td>HEARING HELD-GUILTY</td>\n",
       "    </tr>\n",
       "    <tr>\n",
       "      <th>3</th>\n",
       "      <td>8MXL817</td>\n",
       "      <td>NO PARKING-STREET CLEANING</td>\n",
       "      <td>None</td>\n",
       "    </tr>\n",
       "    <tr>\n",
       "      <th>4</th>\n",
       "      <td>JMK5878</td>\n",
       "      <td>NO PARKING-STREET CLEANING</td>\n",
       "      <td>None</td>\n",
       "    </tr>\n",
       "    <tr>\n",
       "      <th>...</th>\n",
       "      <td>...</td>\n",
       "      <td>...</td>\n",
       "      <td>...</td>\n",
       "    </tr>\n",
       "    <tr>\n",
       "      <th>5611</th>\n",
       "      <td>31790ME</td>\n",
       "      <td>NO STANDING-BUS STOP</td>\n",
       "      <td>None</td>\n",
       "    </tr>\n",
       "    <tr>\n",
       "      <th>5612</th>\n",
       "      <td>HJZ8615</td>\n",
       "      <td>FRONT OR BACK PLATE MISSING</td>\n",
       "      <td>None</td>\n",
       "    </tr>\n",
       "    <tr>\n",
       "      <th>5613</th>\n",
       "      <td>63662JM</td>\n",
       "      <td>DOUBLE PARKING</td>\n",
       "      <td>HEARING HELD-GUILTY REDUCTION</td>\n",
       "    </tr>\n",
       "    <tr>\n",
       "      <th>5614</th>\n",
       "      <td>XCHK61</td>\n",
       "      <td>COMML PLATES-UNALTERED VEHICLE</td>\n",
       "      <td>None</td>\n",
       "    </tr>\n",
       "    <tr>\n",
       "      <th>5615</th>\n",
       "      <td>KMB5323</td>\n",
       "      <td>BUS LANE VIOLATION</td>\n",
       "      <td>None</td>\n",
       "    </tr>\n",
       "  </tbody>\n",
       "</table>\n",
       "<p>5616 rows × 3 columns</p>\n",
       "</div>"
      ],
      "text/plain": [
       "        Plate                       Violation               Violation Status\n",
       "0     51126JU                  DOUBLE PARKING  HEARING HELD-GUILTY REDUCTION\n",
       "1      TUX21W              BUS LANE VIOLATION                           None\n",
       "2      HJYA96  FAIL TO DSPLY MUNI METER RECPT            HEARING HELD-GUILTY\n",
       "3     8MXL817      NO PARKING-STREET CLEANING                           None\n",
       "4     JMK5878      NO PARKING-STREET CLEANING                           None\n",
       "...       ...                             ...                            ...\n",
       "5611  31790ME            NO STANDING-BUS STOP                           None\n",
       "5612  HJZ8615     FRONT OR BACK PLATE MISSING                           None\n",
       "5613  63662JM                  DOUBLE PARKING  HEARING HELD-GUILTY REDUCTION\n",
       "5614   XCHK61  COMML PLATES-UNALTERED VEHICLE                           None\n",
       "5615  KMB5323              BUS LANE VIOLATION                           None\n",
       "\n",
       "[5616 rows x 3 columns]"
      ]
     },
     "execution_count": 23,
     "metadata": {},
     "output_type": "execute_result"
    }
   ],
   "source": [
    "# we can convert to Pandas IF the data can fit into one node\n",
    "df2.sample(0.0001).toPandas()"
   ]
  },
  {
   "cell_type": "markdown",
   "id": "80b94849-b5ea-4dcb-906d-24784f85ec7c",
   "metadata": {
    "pycharm": {
     "name": "#%% md\n"
    }
   },
   "source": [
    "# Check yourself\n",
    "* replace `df2.sample(0.0001).toPandas()` with `df2.toPandas()`  and run the cell.\n",
    "What happens?\n",
    "How much memory is needed in this PC to load the full Pandas DF?"
   ]
  },
  {
   "cell_type": "markdown",
   "id": "0ca01489-9314-4ef7-b3ea-62e0fb694c30",
   "metadata": {
    "pycharm": {
     "name": "#%% md\n"
    }
   },
   "source": [
    "hint: `df2.limit(100).toPandas().memory_usage()`"
   ]
  }
 ],
 "metadata": {
  "kernelspec": {
   "display_name": "Python 3 (ipykernel)",
   "language": "python",
   "name": "python3"
  },
  "language_info": {
   "codemirror_mode": {
    "name": "ipython",
    "version": 3
   },
   "file_extension": ".py",
   "mimetype": "text/x-python",
   "name": "python",
   "nbconvert_exporter": "python",
   "pygments_lexer": "ipython3",
   "version": "3.9.10"
  }
 },
 "nbformat": 4,
 "nbformat_minor": 5
}