{
 "cells": [
  {
   "cell_type": "markdown",
   "id": "03908bf4-cb54-4f1a-b31d-82fe3c0fe649",
   "metadata": {},
   "source": [
    "# Debugging your application\n",
    "\n",
    "This is a placeholder\n",
    "\n",
    "See chapter 15, 16,\n",
    "18 \"monitoring and debugging\" in [SDG]\n",
    "\n"
   ]
  },
  {
   "cell_type": "markdown",
   "id": "dcd0320c-e2eb-40f2-8b56-a101c6fb83e7",
   "metadata": {},
   "source": [
    "Testing your application (chapter 16)\n"
   ]
  },
  {
   "cell_type": "markdown",
   "id": "a3ce68b0-ea0a-40c4-a2dd-9828accf1606",
   "metadata": {},
   "source": [
    "## the following code is from SDG, chapter 16, p 299"
   ]
  },
  {
   "cell_type": "code",
   "execution_count": null,
   "id": "b71370fd-7bb9-4fe7-9d00-73047c28a98d",
   "metadata": {},
   "outputs": [],
   "source": [
    "import pyspark\n",
    "from pyspark.sql import SparkSession\n",
    "from pyspark.sql import Row\n",
    "\n",
    "spark = SparkSession.builder.getOrCreate()\n",
    "#sc = spark.sparkContext"
   ]
  },
  {
   "cell_type": "code",
   "execution_count": null,
   "id": "3d3aef74-7530-4381-a016-7ddb2cbe2dce",
   "metadata": {},
   "outputs": [],
   "source": [
    "x = spark.read\\\n",
    ".option(\"header\", \"true\")\\\n",
    ".csv(\"../data/sdg/retail-data/by-day/2010-12-01.csv\")\\\n",
    ".repartition(180) # 10 * חי\n",
    "\n",
    "# x.cache()\n",
    "\n",
    "x.selectExpr(\"instr(Description, 'GLASS') >= 1 as is_glass\")\\\n",
    ".groupBy(\"is_glass\")\\\n",
    ".count()\\\n",
    ".collect()"
   ]
  },
  {
   "cell_type": "raw",
   "id": "0d1da1c2-6716-45a4-bda6-84504ef90dde",
   "metadata": {},
   "source": [
    "The output is:\n",
    "[Row(is_glass=None, count=10),\n",
    " Row(is_glass=True, count=93),\n",
    " Row(is_glass=False, count=3005)]"
   ]
  },
  {
   "cell_type": "markdown",
   "id": "ccc23f39-6d63-4ce3-874d-a99b82581401",
   "metadata": {},
   "source": [
    "Now open http://localhost:4040/SQL/ and your will see similar graphs to figure 18-4 and 18-5.\n",
    "\n",
    "They are not the same since the Spark version is different and probably a lot of config values."
   ]
  },
  {
   "cell_type": "markdown",
   "id": "d0288a81-60e6-4888-82e9-c764fd1bc5fb",
   "metadata": {},
   "source": [
    "Enable the `x.cache()` line.\n",
    "Run the code again. Check the http://localhost:4040/storage/ tab"
   ]
  },
  {
   "cell_type": "markdown",
   "id": "1762cab2-0cf0-46db-8902-30a75fe073ea",
   "metadata": {},
   "source": [
    "# Spark UI History Server\n",
    "Normally, the Spark UI is only available while a SparkContext is running, so how can you get to\n",
    "it after your application crashes or ends? To do this, Spark includes a tool called **the Spark\n",
    "History Server** that allows you to reconstruct the Spark UI"
   ]
  },
  {
   "cell_type": "markdown",
   "id": "7dc20020-7dfe-4450-99d6-2107be097a32",
   "metadata": {},
   "source": [
    "# Debugging and Spark First Aid\n",
    "goto p 307"
   ]
  },
  {
   "cell_type": "markdown",
   "id": "e478d2d1-a18a-4641-957a-4e07cb0eea14",
   "metadata": {},
   "source": [
    "Slow Tasks or Stragglers -> p 309"
   ]
  },
  {
   "cell_type": "markdown",
   "id": "e39e195b-3555-4a4d-a140-d98ad167adce",
   "metadata": {},
   "source": [
    "\"Stragglers can be one of the most difficult issues to debug, simply because there are so many\n",
    "possible causes. However, in all likelihood, the cause will be some kind of data skew, so\n",
    "definitely begin by checking the Spark UI for imbalanced amounts of data across tasks.\""
   ]
  },
  {
   "cell_type": "markdown",
   "id": "39cda9f9-f2cf-4576-abd3-31d15f134b3a",
   "metadata": {},
   "source": [
    "\"Ensure null values are represented correctly (using Spark’s concept of null) and not as\n",
    "some default value like \" \" or \"EMPTY\". Spark often optimizes for skipping nulls early\n",
    "in the job when possible, but it can’t do so for your own placeholder values.\""
   ]
  },
  {
   "cell_type": "code",
   "execution_count": null,
   "id": "66b52cbc-8fc8-49f2-ba20-eaf03bdcfada",
   "metadata": {},
   "outputs": [],
   "source": []
  }
 ],
 "metadata": {
  "kernelspec": {
   "display_name": "Python 3 (ipykernel)",
   "language": "python",
   "name": "python3"
  },
  "language_info": {
   "codemirror_mode": {
    "name": "ipython",
    "version": 3
   },
   "file_extension": ".py",
   "mimetype": "text/x-python",
   "name": "python",
   "nbconvert_exporter": "python",
   "pygments_lexer": "ipython3",
   "version": "3.9.10"
  }
 },
 "nbformat": 4,
 "nbformat_minor": 5
}
