{
 "cells": [
  {
   "cell_type": "code",
   "execution_count": 1,
   "id": "88437739-091d-4385-ad5f-8cbfb079d70a",
   "metadata": {},
   "outputs": [],
   "source": [
    "# https://spark.apache.org/docs/latest/rdd-programming-guide.html#:~:text=A%20second%20abstraction%20in%20Spark%20is%20shared%20variables%20that%20can%20be%20used%20in%20parallel%20operations."
   ]
  },
  {
   "cell_type": "markdown",
   "id": "1f056751-e490-40ef-bd6f-fa6692ebd6e0",
   "metadata": {},
   "source": [
    " By default, when Spark runs a function in parallel as a set of tasks on different nodes, it ships a copy of each variable used in the function to each task. Sometimes, a variable needs to be shared across tasks, or between tasks and the driver program. Spark supports two types of shared variables: *broadcast* variables, which can be used to cache a value in memory on all nodes, and *accumulators*, which are variables that are only “added” to, such as counters and sums."
   ]
  },
  {
   "cell_type": "markdown",
   "id": "f7d81db7-bd64-4dc4-b3a3-236e2a2d8fc7",
   "metadata": {},
   "source": [
    "Chapter 14 in [SDG]"
   ]
  },
  {
   "cell_type": "code",
   "execution_count": null,
   "id": "74e844e9-85a8-4abd-a8ac-615c49e22886",
   "metadata": {},
   "outputs": [],
   "source": []
  }
 ],
 "metadata": {
  "kernelspec": {
   "display_name": "Python 3 (ipykernel)",
   "language": "python",
   "name": "python3"
  },
  "language_info": {
   "codemirror_mode": {
    "name": "ipython",
    "version": 3
   },
   "file_extension": ".py",
   "mimetype": "text/x-python",
   "name": "python",
   "nbconvert_exporter": "python",
   "pygments_lexer": "ipython3",
   "version": "3.9.7"
  }
 },
 "nbformat": 4,
 "nbformat_minor": 5
}
