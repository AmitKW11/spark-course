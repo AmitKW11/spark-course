{
 "cells": [
  {
   "cell_type": "markdown",
   "id": "9a872cc9-0743-4f5c-80db-8415284a803d",
   "metadata": {},
   "source": [
    "# Spark Streaming basics\n",
    "\n",
    "From chapter 21 in [SDG]"
   ]
  },
  {
   "cell_type": "code",
   "execution_count": null,
   "id": "ded07f2d-4f5e-4d81-9682-1e29b40f9c5a",
   "metadata": {},
   "outputs": [],
   "source": [
    "from pyspark.sql import SparkSession\n",
    "spark = SparkSession.builder.appName('streaming').getOrCreate()\n",
    "datapath = \"../../data/sdg/\""
   ]
  },
  {
   "cell_type": "markdown",
   "id": "06b421dc-5231-4fca-afcb-47b2ec90290a",
   "metadata": {},
   "source": [
    "Read a file to infer the schema:"
   ]
  },
  {
   "cell_type": "code",
   "execution_count": null,
   "id": "baad14fe-0745-4157-ab66-8bf394a631e2",
   "metadata": {},
   "outputs": [],
   "source": [
    "static = spark.read.json(datapath + \"/activity-data/part-00000*.json\")\n",
    "dataSchema = static.schema\n"
   ]
  },
  {
   "cell_type": "markdown",
   "id": "82a73103-77ec-45ef-9baa-d08dcc2d1971",
   "metadata": {},
   "source": [
    "### Start a streaming object.\n",
    "You may have to execute this cell before running the last cells, since the stream will be consumed by then"
   ]
  },
  {
   "cell_type": "code",
   "execution_count": null,
   "id": "0069ee12-e7c2-465e-bb9d-f35309f73ffb",
   "metadata": {},
   "outputs": [],
   "source": [
    "streaming = spark.readStream.schema(dataSchema).option(\"maxFilesPerTrigger\", 1)\\\n",
    "  .json(datapath + \"/activity-data\")\n",
    "streaming.printSchema()"
   ]
  },
  {
   "cell_type": "code",
   "execution_count": null,
   "id": "3ed420bd-4b6f-407f-a3fc-2574c1bdafd3",
   "metadata": {},
   "outputs": [],
   "source": [
    "activityCounts = streaming.groupBy(\"gt\").count()"
   ]
  },
  {
   "cell_type": "code",
   "execution_count": null,
   "id": "65487c51-ad33-4456-949f-119af727d246",
   "metadata": {},
   "outputs": [],
   "source": [
    "activityQuery = activityCounts.writeStream.queryName(\"activity_counts\")\\\n",
    "  .format(\"memory\").outputMode(\"complete\") \\\n",
    "  .start()\n"
   ]
  },
  {
   "cell_type": "code",
   "execution_count": null,
   "id": "98f34145-c443-441b-b68a-a9328fa070b2",
   "metadata": {},
   "outputs": [],
   "source": [
    "from time import sleep\n",
    "for x in range(5):\n",
    "    spark.sql(\"SELECT * FROM activity_counts\").show()\n",
    "    sleep(1)"
   ]
  },
  {
   "cell_type": "code",
   "execution_count": null,
   "id": "afd4da17-2b80-46c7-8ac7-25ecfddc7498",
   "metadata": {},
   "outputs": [],
   "source": [
    "activityQuery.status"
   ]
  },
  {
   "cell_type": "code",
   "execution_count": null,
   "id": "09f9a8cc-2f70-424c-8e30-08c306753049",
   "metadata": {},
   "outputs": [],
   "source": [
    "activityQuery.stop()"
   ]
  },
  {
   "cell_type": "markdown",
   "id": "04fbc8be-85d6-4af9-aff1-72f2fed39dd3",
   "metadata": {},
   "source": [
    "## Transformations"
   ]
  },
  {
   "cell_type": "code",
   "execution_count": null,
   "id": "20ded682-438e-4b0a-86b0-f57282a8791f",
   "metadata": {},
   "outputs": [],
   "source": [
    "from pyspark.sql.functions import expr\n",
    "simpleTransform = streaming.withColumn(\"stairs\", expr(\"gt like '%stairs%'\"))\\\n",
    "  .where(\"stairs\")\\\n",
    "  .where(\"gt is not null\")\\\n",
    "  .select(\"gt\", \"model\", \"arrival_time\", \"creation_time\")\\\n",
    "  .writeStream\\\n",
    "  .queryName(\"simple_transform\")\\\n",
    "  .format(\"memory\")\\\n",
    "  .outputMode(\"append\")\\\n",
    "  .start()"
   ]
  },
  {
   "cell_type": "code",
   "execution_count": null,
   "id": "55156aeb-ffda-426d-9add-bfe7030f2694",
   "metadata": {
    "tags": []
   },
   "outputs": [],
   "source": [
    "for x in range(5):\n",
    "    print(spark.sql(\"SELECT *, (arrival_time - (creation_time/1e6))/ 1000 as delta_msec FROM simple_transform\").toPandas())\n",
    "    sleep(1)\n",
    "    \n",
    "simpleTransform.stop() "
   ]
  },
  {
   "cell_type": "markdown",
   "id": "8e6d491b-fcb1-43ec-ad49-4186e5bc9d71",
   "metadata": {},
   "source": [
    "## Agregations"
   ]
  },
  {
   "cell_type": "code",
   "execution_count": null,
   "id": "0e7331a8-802e-4277-bb04-bdd46cb7170a",
   "metadata": {},
   "outputs": [],
   "source": [
    "\n",
    "deviceModelStats = streaming.cube(\"gt\", \"model\").avg()\\\n",
    "  .drop(\"avg(Arrival_time)\")\\\n",
    "  .drop(\"avg(Creation_Time)\")\\\n",
    "  .drop(\"avg(Index)\")\\\n",
    "  .writeStream.queryName(\"device_counts\").format(\"memory\")\\\n",
    "  .outputMode(\"complete\")\\\n",
    "  .start()"
   ]
  },
  {
   "cell_type": "code",
   "execution_count": null,
   "id": "82c71ef4-f9e9-44eb-9b58-7b59db91f8bf",
   "metadata": {},
   "outputs": [],
   "source": [
    "# there are 8 gt values and 2 models => 16 combinations.\n",
    "#spark.sql(\"select model from device_counts\").distinct().toPandas()"
   ]
  },
  {
   "cell_type": "code",
   "execution_count": null,
   "id": "1aaadcdf-46f1-4802-9f2a-bd76184917c4",
   "metadata": {},
   "outputs": [],
   "source": [
    "for x in range(3):\n",
    "    print(spark.sql(\"SELECT * FROM device_counts\").toPandas())\n",
    "    print(\"==========\")\n",
    "    sleep(1)\n",
    "    \n",
    "deviceModelStats.stop() "
   ]
  },
  {
   "cell_type": "markdown",
   "id": "d585b9d0-83f1-4911-847e-6c1f4b251efe",
   "metadata": {},
   "source": [
    "Perform JOIN between stream and static dataframe"
   ]
  },
  {
   "cell_type": "code",
   "execution_count": null,
   "id": "4462b126-7718-41ec-b46c-a3d21b07f425",
   "metadata": {},
   "outputs": [],
   "source": [
    "historicalAgg = static.groupBy(\"gt\", \"model\").avg()\n",
    "deviceModelStats = streaming.drop(\"Arrival_Time\", \"Creation_Time\", \"Index\")\\\n",
    "  .cube(\"gt\", \"model\").avg()\\\n",
    "  .join(historicalAgg, [\"gt\", \"model\"])\\\n",
    "  .writeStream.queryName(\"device_counts\").format(\"memory\")\\\n",
    "  .outputMode(\"complete\")\\\n",
    "  .start()\n"
   ]
  },
  {
   "cell_type": "code",
   "execution_count": null,
   "id": "b815379b-cccc-4872-aa31-5a62ec13cee2",
   "metadata": {},
   "outputs": [],
   "source": [
    "for x in range(3):\n",
    "    print(spark.sql(\"SELECT * FROM device_counts\").toPandas())\n",
    "    print(\"==========\")\n",
    "    sleep(1)\n",
    "    \n",
    "deviceModelStats.stop()"
   ]
  },
  {
   "cell_type": "markdown",
   "id": "c59ad2d3-356f-4feb-a925-72a1c808e63c",
   "metadata": {},
   "source": [
    "# Check yourself\n",
    "\n",
    "* What will happen if you change \"complete\" to \"append\" in activityQuery?\n",
    "* What will happen if you change \"append\" to \"complete\" in simpleTransform?\n",
    "* Can you JOIN two stream tables?"
   ]
  },
  {
   "cell_type": "code",
   "execution_count": null,
   "id": "b7b3ec90-87c5-41b9-8159-7c3b3a02db28",
   "metadata": {},
   "outputs": [],
   "source": []
  }
 ],
 "metadata": {
  "kernelspec": {
   "display_name": "Python 3 (ipykernel)",
   "language": "python",
   "name": "python3"
  },
  "language_info": {
   "codemirror_mode": {
    "name": "ipython",
    "version": 3
   },
   "file_extension": ".py",
   "mimetype": "text/x-python",
   "name": "python",
   "nbconvert_exporter": "python",
   "pygments_lexer": "ipython3",
   "version": "3.9.10"
  }
 },
 "nbformat": 4,
 "nbformat_minor": 5
}
