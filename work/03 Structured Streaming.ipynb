{
 "cells": [
  {
   "cell_type": "markdown",
   "id": "b17acd7c-48e4-4480-a6a8-8dc8a7295336",
   "metadata": {},
   "source": [
    "# Structured Streaming\n",
    "\n",
    "For this lab, we will need a data streaming source\n",
    "\n",
    "refer to [sdg].p44\n",
    "\n",
    "We can create one by using Kafka server that simulates a live data stream.\n",
    "\n",
    "Instructions on setting the Kafka server are in TBD\n"
   ]
  },
  {
   "cell_type": "code",
   "execution_count": null,
   "id": "187d6160-f85f-4195-85ad-0d7af82ccc22",
   "metadata": {},
   "outputs": [],
   "source": [
    "from pyspark.sql import SparkSession\n",
    "import pyspark.sql.functions as f\n",
    "from pyspark.sql.types import *\n",
    "\n",
    "import os"
   ]
  },
  {
   "cell_type": "code",
   "execution_count": null,
   "id": "4d2eb1c2-513f-439b-8cd3-14cec96e7066",
   "metadata": {},
   "outputs": [],
   "source": [
    "SCHEMA = StructType([StructField(\"Arrival_Time\",LongType(),True), \n",
    "                     StructField(\"Creation_Time\",LongType(),True),\n",
    "                     StructField(\"Device\",StringType(),True), \n",
    "                     StructField(\"Index\", LongType(), True),\n",
    "                     StructField(\"Model\", StringType(), True),\n",
    "                     StructField(\"User\", StringType(), True),\n",
    "                     StructField(\"gt\", StringType(), True),\n",
    "                     StructField(\"x\", DoubleType(), True),\n",
    "                     StructField(\"y\", DoubleType(), True),\n",
    "                     StructField(\"z\", DoubleType(), True)])\n",
    "\n",
    "# The config packages will try to download the needed packages from maven.org --> you need internet connection\n",
    "spark = SparkSession.builder.appName('streaming')\\\n",
    "    .config(\"spark.kryoserializer.buffer.max\", \"512m\")\\\n",
    "    .config('spark.jars.packages', 'org.apache.spark:spark-sql-kafka-0-10_2.11:2.4.4,org.apache.spark:spark-streaming-kafka-0-10-assembly_2.12:2.4.4')\\\n",
    "    .getOrCreate()"
   ]
  },
  {
   "cell_type": "code",
   "execution_count": null,
   "id": "f04d0161-40c0-4854-85e6-4dd31eaf5400",
   "metadata": {},
   "outputs": [],
   "source": [
    "kafka_server = \"kafka:29092\"  # internal name in the Docker network\n",
    "topic = \"activities\""
   ]
  },
  {
   "cell_type": "markdown",
   "id": "0a51d679-2c19-48e8-9e32-567ae94d02ae",
   "metadata": {},
   "source": [
    "## Read the data stream into a regular DataFrame.\n",
    "\n",
    "The dataframe will get bigger and bigger"
   ]
  },
  {
   "cell_type": "code",
   "execution_count": null,
   "id": "7d4e227f-96ac-49bf-9dd5-64aed96c507e",
   "metadata": {},
   "outputs": [],
   "source": [
    "static_df = spark.read\\\n",
    "                  .format(\"kafka\")\\\n",
    "                  .option(\"kafka.bootstrap.servers\", kafka_server)\\\n",
    "                  .option(\"subscribe\", topic)\\\n",
    "                  .option(\"startingOffsets\", \"earliest\")\\\n",
    "                  .option(\"failOnDataLoss\",False)\\\n",
    "                  .load()\n",
    "s2 = static_df.select(f.from_json(f.decode(\"value\", \"US-ASCII\"), schema=SCHEMA).alias(\"value\")).select(\"value.*\")"
   ]
  },
  {
   "cell_type": "code",
   "execution_count": null,
   "id": "7deccb42-763a-4605-b922-5116ac18acc5",
   "metadata": {},
   "outputs": [],
   "source": [
    "%%time \n",
    "# on my pc, there is a fixed 3 sec time for each of count() and show()  ?!\n",
    "# this is probably a spark config: https://stackoverflow.com/questions/59916338/why-is-there-a-delay-in-the-launch-of-spark-executors\n",
    "print(\"%d records in frame\" % s2.count())\n",
    "s2.show(3)"
   ]
  },
  {
   "cell_type": "markdown",
   "id": "2c6c436c-1dd1-412f-a7d7-85efd921aa38",
   "metadata": {},
   "source": [
    "## Read the data stream using the streaming API\n",
    "TODO"
   ]
  },
  {
   "cell_type": "code",
   "execution_count": 1,
   "id": "650d0a4e-f4c6-4738-84a0-2895f938dd71",
   "metadata": {},
   "outputs": [],
   "source": [
    "# TODO"
   ]
  },
  {
   "cell_type": "code",
   "execution_count": null,
   "id": "c020237c-025e-457d-8c81-137227ebf987",
   "metadata": {},
   "outputs": [],
   "source": []
  }
 ],
 "metadata": {
  "kernelspec": {
   "display_name": "Python 3 (ipykernel)",
   "language": "python",
   "name": "python3"
  },
  "language_info": {
   "codemirror_mode": {
    "name": "ipython",
    "version": 3
   },
   "file_extension": ".py",
   "mimetype": "text/x-python",
   "name": "python",
   "nbconvert_exporter": "python",
   "pygments_lexer": "ipython3",
   "version": "3.9.7"
  }
 },
 "nbformat": 4,
 "nbformat_minor": 5
}
