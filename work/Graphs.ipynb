{
 "cells": [
  {
   "cell_type": "markdown",
   "metadata": {
    "id": "wKrPet2c-hQh"
   },
   "source": [
    "# Graphs in PySpark\n"
   ]
  },
  {
   "cell_type": "markdown",
   "metadata": {},
   "source": [
    "this is a work in progress by Yaniv. 2025-02-03"
   ]
  },
  {
   "cell_type": "markdown",
   "metadata": {
    "id": "EvN9R_9c_m9R"
   },
   "source": [
    "Let's dive into Spark's tool for large scale graph processing - ***GraphX library***. We will ... ***(TODO)***\n",
    "\n",
    "\n",
    "NOAM: you need to relate to the notebook in the sdg folder ( I simply downloaded code from the book)"
   ]
  },
  {
   "cell_type": "markdown",
   "metadata": {
    "id": "AlfQbYhFE3eG"
   },
   "source": [
    "## Graphs - Revisiting"
   ]
  },
  {
   "cell_type": "markdown",
   "metadata": {
    "id": "LLlWvr72w7kD"
   },
   "source": [
    "**(TODO: Revision on Graphs)**"
   ]
  },
  {
   "cell_type": "markdown",
   "metadata": {
    "id": "f2eqJAy6B3te"
   },
   "source": [
    "## Graphs in PySpark"
   ]
  },
  {
   "cell_type": "markdown",
   "metadata": {},
   "source": [
    "Before we use GraphFrames, we need to have the right java package (JAR) installed.\n",
    "Luckily, it is already installed for us \n"
   ]
  },
  {
   "cell_type": "code",
   "execution_count": null,
   "metadata": {},
   "outputs": [],
   "source": [
    "!pip install graphframes # Install the python glue library to the java lib"
   ]
  },
  {
   "cell_type": "code",
   "execution_count": null,
   "metadata": {
    "id": "ug0BVgxlCFi3"
   },
   "outputs": [],
   "source": [
    "from pyspark.sql import SparkSession\n",
    "spark = SparkSession.builder \\\n",
    "    .appName(\"Graph Processing\") \\\n",
    "    .master(\"local[*]\")\\\n",
    "    .config(\"spark.jars\",\"/home/jars/graphframes-0.8.4-spark3.5-s_2.12.jar\") \\\n",
    "    .getOrCreate()\n",
    "\n",
    "sc = spark.sparkContext\n"
   ]
  },
  {
   "cell_type": "code",
   "execution_count": null,
   "metadata": {
    "colab": {
     "base_uri": "https://localhost:8080/",
     "height": 651
    },
    "id": "UGtxV4sECWcW",
    "outputId": "f609fa16-15dd-40ca-9ac8-c536eb26b7e4"
   },
   "outputs": [],
   "source": [
    "from graphframes import GraphFrame\n",
    "\n",
    "# Create vertices and edges\n",
    "vertices = spark.createDataFrame([\n",
    "    (\"1\", \"Alice\"),\n",
    "    (\"2\", \"Bob\"),\n",
    "    (\"3\", \"Charlie\")\n",
    "], [\"id\", \"name\"])\n",
    "\n",
    "edges = spark.createDataFrame([\n",
    "    (\"1\", \"2\", \"friend\"),\n",
    "    (\"2\", \"3\", \"follow\"),\n",
    "    (\"3\", \"1\", \"friend\")\n",
    "], [\"src\", \"dst\", \"relationship\"])\n",
    "\n",
    "# Create GraphFrame\n",
    "g = GraphFrame(vertices, edges)\n",
    "\n",
    "# Show vertices and edges\n",
    "print(\"Vertices:\")\n",
    "g.vertices.show()\n",
    "\n",
    "print(\"Edges:\")\n",
    "g.edges.show()\n"
   ]
  }
 ],
 "metadata": {
  "colab": {
   "provenance": []
  },
  "kernelspec": {
   "display_name": "Python 3 (ipykernel)",
   "language": "python",
   "name": "python3"
  },
  "language_info": {
   "codemirror_mode": {
    "name": "ipython",
    "version": 3
   },
   "file_extension": ".py",
   "mimetype": "text/x-python",
   "name": "python",
   "nbconvert_exporter": "python",
   "pygments_lexer": "ipython3",
   "version": "3.9.10"
  }
 },
 "nbformat": 4,
 "nbformat_minor": 4
}
