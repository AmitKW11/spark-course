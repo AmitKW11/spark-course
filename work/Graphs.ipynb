{
 "cells": [
  {
   "cell_type": "markdown",
   "metadata": {
    "id": "wKrPet2c-hQh"
   },
   "source": [
    "# Graphs in PySpark\n"
   ]
  },
  {
   "cell_type": "markdown",
   "metadata": {
    "id": "EvN9R_9c_m9R"
   },
   "source": [
    "Let's dive into Spark's tool for large‑scale graph processing – ***the GraphFrames library***.  \n",
    "\n",
    "Apache Spark provides two main APIs for graph processing: **GraphX** (link to the full documentation can be found [here](http://spark.apache.org/docs/latest/graphx-programming-guide.html)) and **GraphFrames** (link to the full documentation can be found [here](https://graphframes.github.io/graphframes/docs/_site/user-guide.html)). The first one (GraphX) is built on RDDs and available in Scala and Java, while the second one (GraphFrames) is built on DataFrames and is available in Python too (through the PySpark library).\n",
    "\n",
    "In this notebook, we'll provide an overview of the **GraphFrames library**, demonstrating:\n",
    "- The basic building blocks (vertices and edges).\n",
    "- How to construct and query graphs using GraphFrames.\n",
    "- Key functionalities like motif finding, subgraph operations, and more.\n",
    "- How to perform famous algorithms, like BFS and PageRank, on graphs using GraphFrames.\n"
   ]
  },
  {
   "cell_type": "markdown",
   "metadata": {
    "id": "AlfQbYhFE3eG",
    "tags": []
   },
   "source": [
    "## Graphs - Revisiting"
   ]
  },
  {
   "cell_type": "markdown",
   "metadata": {
    "id": "LLlWvr72w7kD"
   },
   "source": [
    "A **graph** is a structure consisting of **nodes** (also called **vertices**) and **edges**. Formally:\n",
    "\n",
    "$$\n",
    "G = (V, E)\n",
    "$$\n",
    "\n",
    "- $V$ is the set of **vertices** (the “points” or “nodes”).\n",
    "- $E$ is the set of **edges** (the “connections” between vertices).\n",
    "\n",
    "### Directed vs. Undirected\n",
    "- **Directed Graph**: Each edge has a direction. In mathematical terms:\n",
    "  $$\n",
    "  E \\subseteq V \\times V\n",
    "  $$\n",
    "  This means an edge is an ordered pair $(u, v)$ from vertex $u$ to vertex $v$.\n",
    "\n",
    "- **Undirected Graph**: Edges go both ways. An edge here is an unordered pair $\\{u, v\\}$.\n",
    "\n",
    "### Weighted Graphs\n",
    "Some graphs attach a **weight** (numerical value) to each edge, for instance to represent cost or distance:\n",
    "$$\n",
    "w: E \\to \\mathbb{R}\n",
    "$$\n",
    "\n",
    "Overall, the essence of any graph is the set of nodes plus the set of links (edges) that connect them, whether those links are one-directional, two-directional, or assigned specific weights."
   ]
  },
  {
   "cell_type": "markdown",
   "metadata": {
    "id": "f2eqJAy6B3te",
    "tags": []
   },
   "source": [
    "## Graphs in PySpark"
   ]
  },
  {
   "cell_type": "markdown",
   "metadata": {},
   "source": [
    "Before we use GraphFrames, we need to have the right java package (JAR) installed.\n",
    "Luckily, it is already installed for us \n"
   ]
  },
  {
   "cell_type": "code",
   "execution_count": 1,
   "metadata": {},
   "outputs": [
    {
     "name": "stdout",
     "output_type": "stream",
     "text": [
      "Requirement already satisfied: graphframes in /opt/conda/lib/python3.9/site-packages (0.6)\n",
      "Requirement already satisfied: numpy in /opt/conda/lib/python3.9/site-packages (from graphframes) (1.21.5)\n",
      "Requirement already satisfied: nose in /opt/conda/lib/python3.9/site-packages (from graphframes) (1.3.7)\n"
     ]
    }
   ],
   "source": [
    "!pip install graphframes # Install the python glue library to the java lib"
   ]
  },
  {
   "cell_type": "markdown",
   "metadata": {},
   "source": [
    "Let's crate a SparkSession"
   ]
  },
  {
   "cell_type": "code",
   "execution_count": 2,
   "metadata": {
    "id": "ug0BVgxlCFi3"
   },
   "outputs": [],
   "source": [
    "from pyspark.sql import SparkSession\n",
    "spark = SparkSession.builder \\\n",
    "    .appName(\"Graph Processing\") \\\n",
    "    .master(\"local[*]\")\\\n",
    "    .config(\"spark.jars\",\"/home/jars/graphframes-0.8.4-spark3.5-s_2.12.jar\") \\\n",
    "    .getOrCreate()\n",
    "\n",
    "sc = spark.sparkContext"
   ]
  },
  {
   "cell_type": "code",
   "execution_count": 3,
   "metadata": {
    "colab": {
     "base_uri": "https://localhost:8080/",
     "height": 651
    },
    "id": "UGtxV4sECWcW",
    "outputId": "f609fa16-15dd-40ca-9ac8-c536eb26b7e4"
   },
   "outputs": [
    {
     "name": "stdout",
     "output_type": "stream",
     "text": [
      "Requirement already satisfied: kagglehub in /opt/conda/lib/python3.9/site-packages (0.3.11)\n",
      "Requirement already satisfied: packaging in /opt/conda/lib/python3.9/site-packages (from kagglehub) (21.3)\n",
      "Requirement already satisfied: pyyaml in /opt/conda/lib/python3.9/site-packages (from kagglehub) (6.0)\n",
      "Requirement already satisfied: requests in /opt/conda/lib/python3.9/site-packages (from kagglehub) (2.27.1)\n",
      "Requirement already satisfied: tqdm in /opt/conda/lib/python3.9/site-packages (from kagglehub) (4.64.0)\n",
      "Requirement already satisfied: pyparsing!=3.0.5,>=2.0.2 in /opt/conda/lib/python3.9/site-packages (from packaging->kagglehub) (3.0.7)\n",
      "Requirement already satisfied: idna<4,>=2.5 in /opt/conda/lib/python3.9/site-packages (from requests->kagglehub) (3.3)\n",
      "Requirement already satisfied: urllib3<1.27,>=1.21.1 in /opt/conda/lib/python3.9/site-packages (from requests->kagglehub) (1.26.9)\n",
      "Requirement already satisfied: charset-normalizer~=2.0.0 in /opt/conda/lib/python3.9/site-packages (from requests->kagglehub) (2.0.12)\n",
      "Requirement already satisfied: certifi>=2017.4.17 in /opt/conda/lib/python3.9/site-packages (from requests->kagglehub) (2021.10.8)\n",
      "Path to dataset files: /home/jovyan/.cache/kagglehub/datasets/benhamner/sf-bay-area-bike-share/versions/2\n"
     ]
    }
   ],
   "source": [
    "!pip install kagglehub\n",
    "import kagglehub\n",
    "path = kagglehub.dataset_download(\"benhamner/sf-bay-area-bike-share\")\n",
    "print(\"Path to dataset files:\", path)"
   ]
  },
  {
   "cell_type": "markdown",
   "metadata": {},
   "source": [
    "Let's download the dataset containing information about bike trips in Bay Area in San Francisco"
   ]
  },
  {
   "cell_type": "code",
   "execution_count": 4,
   "metadata": {},
   "outputs": [],
   "source": [
    "import os\n",
    "import graphframes\n",
    "\n",
    "filepath = os.path.join(path)\n",
    "stations_df = spark.read.csv(f\"{filepath}/station.csv\", header=True)\n",
    "trips_df = spark.read.csv(f\"{filepath}/trip.csv\", header=True)"
   ]
  },
  {
   "cell_type": "markdown",
   "metadata": {
    "tags": []
   },
   "source": [
    "### From regular DataFrames to a Graph"
   ]
  },
  {
   "cell_type": "markdown",
   "metadata": {},
   "source": [
    "First, let's print the casual Spark DFs "
   ]
  },
  {
   "cell_type": "code",
   "execution_count": 5,
   "metadata": {},
   "outputs": [
    {
     "name": "stdout",
     "output_type": "stream",
     "text": [
      "+---+---------------------------------+------------------+-------------------+----------+------------+-----------------+\n",
      "|id |name                             |lat               |long               |dock_count|city        |installation_date|\n",
      "+---+---------------------------------+------------------+-------------------+----------+------------+-----------------+\n",
      "|2  |San Jose Diridon Caltrain Station|37.329732         |-121.90178200000001|27        |San Jose    |8/6/2013         |\n",
      "|3  |San Jose Civic Center            |37.330698         |-121.888979        |15        |San Jose    |8/5/2013         |\n",
      "|4  |Santa Clara at Almaden           |37.333988         |-121.894902        |11        |San Jose    |8/6/2013         |\n",
      "|5  |Adobe on Almaden                 |37.331415         |-121.8932          |19        |San Jose    |8/5/2013         |\n",
      "|6  |San Pedro Square                 |37.336721000000004|-121.894074        |15        |San Jose    |8/7/2013         |\n",
      "|7  |Paseo de San Antonio             |37.333798         |-121.88694299999999|15        |San Jose    |8/7/2013         |\n",
      "|8  |San Salvador at 1st              |37.330165         |-121.88583100000001|15        |San Jose    |8/5/2013         |\n",
      "|9  |Japantown                        |37.348742         |-121.89471499999999|15        |San Jose    |8/5/2013         |\n",
      "|10 |San Jose City Hall               |37.337391         |-121.886995        |15        |San Jose    |8/6/2013         |\n",
      "|11 |MLK Library                      |37.335885         |-121.88566000000002|19        |San Jose    |8/6/2013         |\n",
      "|12 |SJSU 4th at San Carlos           |37.332808         |-121.88389099999999|19        |San Jose    |8/7/2013         |\n",
      "|13 |St James Park                    |37.339301         |-121.88993700000002|15        |San Jose    |8/6/2013         |\n",
      "|14 |Arena Green / SAP Center         |37.332692         |-121.900084        |19        |San Jose    |8/5/2013         |\n",
      "|16 |SJSU - San Salvador at 9th       |37.333954999999996|-121.877349        |15        |San Jose    |8/7/2013         |\n",
      "|21 |Franklin at Maple                |37.481758         |-122.226904        |15        |Redwood City|8/12/2013        |\n",
      "|22 |Redwood City Caltrain Station    |37.486078000000006|-122.23208899999999|25        |Redwood City|8/15/2013        |\n",
      "|23 |San Mateo County Center          |37.487615999999996|-122.229951        |15        |Redwood City|8/15/2013        |\n",
      "|24 |Redwood City Public Library      |37.484219         |-122.227424        |15        |Redwood City|8/12/2013        |\n",
      "|25 |Stanford in Redwood City         |37.48537          |-122.20328799999999|15        |Redwood City|8/12/2013        |\n",
      "|26 |Redwood City Medical Center      |37.487682         |-122.223492        |15        |Redwood City|8/12/2013        |\n",
      "+---+---------------------------------+------------------+-------------------+----------+------------+-----------------+\n",
      "only showing top 20 rows\n",
      "\n"
     ]
    }
   ],
   "source": [
    "stations_df.show(truncate=False)"
   ]
  },
  {
   "cell_type": "code",
   "execution_count": 6,
   "metadata": {},
   "outputs": [
    {
     "name": "stdout",
     "output_type": "stream",
     "text": [
      "-RECORD 0--------------------------------------\n",
      " id                 | 4576                     \n",
      " duration           | 63                       \n",
      " start_date         | 8/29/2013 14:13          \n",
      " start_station_name | South Van Ness at Market \n",
      " start_station_id   | 66                       \n",
      " end_date           | 8/29/2013 14:14          \n",
      " end_station_name   | South Van Ness at Market \n",
      " end_station_id     | 66                       \n",
      " bike_id            | 520                      \n",
      " subscription_type  | Subscriber               \n",
      " zip_code           | 94127                    \n",
      "-RECORD 1--------------------------------------\n",
      " id                 | 4607                     \n",
      " duration           | 70                       \n",
      " start_date         | 8/29/2013 14:42          \n",
      " start_station_name | San Jose City Hall       \n",
      " start_station_id   | 10                       \n",
      " end_date           | 8/29/2013 14:43          \n",
      " end_station_name   | San Jose City Hall       \n",
      " end_station_id     | 10                       \n",
      " bike_id            | 661                      \n",
      " subscription_type  | Subscriber               \n",
      " zip_code           | 95138                    \n",
      "-RECORD 2--------------------------------------\n",
      " id                 | 4130                     \n",
      " duration           | 71                       \n",
      " start_date         | 8/29/2013 10:16          \n",
      " start_station_name | Mountain View City Hall  \n",
      " start_station_id   | 27                       \n",
      " end_date           | 8/29/2013 10:17          \n",
      " end_station_name   | Mountain View City Hall  \n",
      " end_station_id     | 27                       \n",
      " bike_id            | 48                       \n",
      " subscription_type  | Subscriber               \n",
      " zip_code           | 97214                    \n",
      "only showing top 3 rows\n",
      "\n"
     ]
    }
   ],
   "source": [
    "trips_df.show(n=3, truncate=False, vertical=True)"
   ]
  },
  {
   "cell_type": "markdown",
   "metadata": {},
   "source": [
    "Now, let's build a Graph. The graphframes framework requires the nodes to have a unique identifier under the column `id` and the edges to have two columns identifying the nodes incident on the edge called `src` and `dst`. We will use the names of the stations as IDs because they are unqiue. A common convention is to have the date format as: `YYYY-MM-DD`, so we will convert the date format in our data to fit the common format."
   ]
  },
  {
   "cell_type": "code",
   "execution_count": 7,
   "metadata": {},
   "outputs": [],
   "source": [
    "from pyspark.sql.functions import *\n",
    "\n",
    "station_vertices = stations_df.drop('id').withColumnRenamed('name', 'id').distinct()\\\n",
    "                                .withColumn('installation_datestamp', to_date('installation_date', 'M/d/yyyy'))\\\n",
    "                                .drop('installation_date')\n",
    "trip_edges = trips_df.withColumnRenamed('start_station_name', 'src')\\\n",
    "                        .withColumnRenamed('end_station_name', 'dst').distinct()\n",
    "\n",
    "# convert date to the 'YYYY-MM-DD' format.drop(col_name) for future use\n",
    "date_columns = ['start_date', 'end_date']\n",
    "for col_name in date_columns:\n",
    "    trip_edges = trip_edges.withColumn(f'{col_name}stamp', to_timestamp(col_name, 'M/d/yyyy H:mm'))"
   ]
  },
  {
   "cell_type": "code",
   "execution_count": 8,
   "metadata": {},
   "outputs": [
    {
     "data": {
      "text/plain": [
       "DataFrame[id: string, lat: string, long: string, dock_count: string, city: string, installation_datestamp: date]"
      ]
     },
     "execution_count": 8,
     "metadata": {},
     "output_type": "execute_result"
    }
   ],
   "source": [
    "from graphframes import GraphFrame\n",
    "\n",
    "station_graph = GraphFrame(station_vertices, trip_edges)\n",
    "\n",
    "trip_edges.cache()\n",
    "station_vertices.cache()"
   ]
  },
  {
   "cell_type": "markdown",
   "metadata": {},
   "source": [
    "Before we proceed, let's visualize the graph by taking a sample of 500 edges. "
   ]
  },
  {
   "cell_type": "code",
   "execution_count": 9,
   "metadata": {},
   "outputs": [
    {
     "data": {
      "image/png": "[encoded data removed]",
      "text/plain": [
       "<Figure size 432x288 with 1 Axes>"
      ]
     },
     "metadata": {},
     "output_type": "display_data"
    }
   ],
   "source": [
    "import networkx as nx\n",
    "import matplotlib.pyplot as plt\n",
    "\n",
    "edges_viz = trip_edges.dropDuplicates(['src','dst'])\n",
    "\n",
    "# plotting the graph\n",
    "def plot_graph(edge_list):\n",
    "    Gplot = nx.Graph()\n",
    "    # drop duplicates to ensure a 'map'\n",
    "    for row in edge_list.select('src', 'dst').take(500):\n",
    "        Gplot.add_edge(row['src'], row['dst'])\n",
    "    \n",
    "    nx.draw(Gplot, node_size=50)\n",
    "    plt.show()\n",
    "    \n",
    "plot_graph(edges_viz)"
   ]
  },
  {
   "cell_type": "markdown",
   "metadata": {},
   "source": [
    "Essentially, what we see in the graph is a map of all the bike station links, where links are defined by a trip made by someone in the past.\n",
    "\n",
    "**Note:** \n",
    "1. The edge list can change from run to run because Spark’s distributed scheduler sends whichever partitions finish first to the driver, so `take(500)` (which is identical to `limit(500).collect()`) samples a nondeterministic slice of the data. \n",
    "2. Even if the edges are identical, NetworkX’s default `spring_layout` starts from a random seed, so node coordinates differ each time the layout is recomputed.  \n",
    "\n",
    "Make the plot repeatable by fully ordering the DataFrame on a unique key before you `collect()` **and** giving the layout a fixed seed (e.g., `pos = nx.spring_layout(Gplot, seed=42); nx.draw(Gplot, pos=pos, node_size=50)`).\n"
   ]
  },
  {
   "cell_type": "code",
   "execution_count": 10,
   "metadata": {},
   "outputs": [
    {
     "data": {
      "image/png": "[encoded data removed]",
      "text/plain": [
       "<Figure size 432x288 with 1 Axes>"
      ]
     },
     "metadata": {},
     "output_type": "display_data"
    }
   ],
   "source": [
    "# plot so that visualization is the same from run to run\n",
    "def plot_graph_deterministic(edge_list):\n",
    "    Gplot = nx.Graph()\n",
    "    # enforce an order on the 'bike_id' column before sampling \n",
    "    for row in edge_list.select('src', 'dst').orderBy('bike_id').limit(500).collect():\n",
    "        # drop duplicates to ensure a 'map'\n",
    "        Gplot.add_edge(row['src'], row['dst'])\n",
    "    \n",
    "    layout = nx.spring_layout(Gplot, seed=1)  # repeatable layout\n",
    "    nx.draw(Gplot, pos=layout, node_size=50)\n",
    "    plt.show()\n",
    "    \n",
    "plot_graph_deterministic(edges_viz)"
   ]
  },
  {
   "cell_type": "code",
   "execution_count": 11,
   "metadata": {},
   "outputs": [
    {
     "data": {
      "text/plain": [
       "DataFrame[id: string, lat: string, long: string, dock_count: string, city: string, installation_datestamp: date]"
      ]
     },
     "execution_count": 11,
     "metadata": {},
     "output_type": "execute_result"
    }
   ],
   "source": [
    "trip_edges.unpersist()\n",
    "station_vertices.unpersist()"
   ]
  },
  {
   "cell_type": "markdown",
   "metadata": {
    "tags": []
   },
   "source": [
    "### Trip Popularity (Basic DF Operations)"
   ]
  },
  {
   "cell_type": "markdown",
   "metadata": {},
   "source": [
    "Let's start off by mentioning that both the edges and the vertices in the GraphFrame are treated as a DataFrame. We can perform all the basic operations like `groupby()`, `sort()`, `select()` and so on on the set of nodes and the set of the edges.\n",
    "\n",
    "One question we might ask is 'How popular is a certain link between stations?'. Another is: 'What are the stations that contain the most docks for bikes (parking spots)?'"
   ]
  },
  {
   "cell_type": "code",
   "execution_count": 12,
   "metadata": {},
   "outputs": [
    {
     "name": "stdout",
     "output_type": "stream",
     "text": [
      "+----------------------------------------+----------------------------------------+-----+\n",
      "|src                                     |dst                                     |count|\n",
      "+----------------------------------------+----------------------------------------+-----+\n",
      "|San Francisco Caltrain 2 (330 Townsend) |Townsend at 7th                         |6216 |\n",
      "|Harry Bridges Plaza (Ferry Building)    |Embarcadero at Sansome                  |6164 |\n",
      "|Townsend at 7th                         |San Francisco Caltrain (Townsend at 4th)|5041 |\n",
      "|2nd at Townsend                         |Harry Bridges Plaza (Ferry Building)    |4839 |\n",
      "|Harry Bridges Plaza (Ferry Building)    |2nd at Townsend                         |4357 |\n",
      "|Embarcadero at Sansome                  |Steuart at Market                       |4269 |\n",
      "|Embarcadero at Folsom                   |San Francisco Caltrain (Townsend at 4th)|3967 |\n",
      "|Steuart at Market                       |2nd at Townsend                         |3903 |\n",
      "|2nd at South Park                       |Market at Sansome                       |3627 |\n",
      "|San Francisco Caltrain (Townsend at 4th)|Harry Bridges Plaza (Ferry Building)    |3622 |\n",
      "+----------------------------------------+----------------------------------------+-----+\n",
      "\n"
     ]
    }
   ],
   "source": [
    "top_trips = (\n",
    "    station_graph\n",
    "    .edges\n",
    "    .groupBy(\"src\", \"dst\")\n",
    "    .count()\n",
    "    .orderBy(desc(\"count\"))\n",
    "    .limit(10))\n",
    "\n",
    "top_trips.show(truncate=False)"
   ]
  },
  {
   "cell_type": "code",
   "execution_count": 13,
   "metadata": {},
   "outputs": [
    {
     "name": "stdout",
     "output_type": "stream",
     "text": [
      "+---------------------------------------------+----------+\n",
      "|id                                           |dock_count|\n",
      "+---------------------------------------------+----------+\n",
      "|San Jose Diridon Caltrain Station            |27        |\n",
      "|Market at Sansome                            |27        |\n",
      "|Market at 10th                               |27        |\n",
      "|2nd at Townsend                              |27        |\n",
      "|Redwood City Caltrain Station                |25        |\n",
      "|Civic Center BART (7th at Market)            |23        |\n",
      "|Steuart at Market                            |23        |\n",
      "|Temporary Transbay Terminal (Howard at Beale)|23        |\n",
      "|Palo Alto Caltrain Station                   |23        |\n",
      "|San Antonio Caltrain Station                 |23        |\n",
      "+---------------------------------------------+----------+\n",
      "\n"
     ]
    }
   ],
   "source": [
    "most_docks = (\n",
    "        station_graph.vertices\\\n",
    "        .orderBy(desc('dock_count'))\\\n",
    "        .select(['id', 'dock_count'])\n",
    "        .limit(10))\n",
    "\n",
    "most_docks.show(truncate=False)"
   ]
  },
  {
   "cell_type": "markdown",
   "metadata": {
    "tags": []
   },
   "source": [
    "### Degree Analysis"
   ]
  },
  {
   "cell_type": "markdown",
   "metadata": {},
   "source": [
    "Another question we might ask is related to degrees of the nodes in our graph. Before continuing with a question, here is a quick revision on the definitions of a degree in a graph.\n",
    "\n",
    "In a **directed graph**, each node $v$ has two degree measures:\n",
    "- **In-degree** $deg_{in}(v)$: The number of incoming edges to $v$.\n",
    "- **Out-degree** $deg_{out}(v)$: The number of outgoing edges from $v$.\n",
    "\n",
    "Formally,\n",
    "$$\n",
    "deg_{in}(v) = \\sum_{u \\in V} \\mathbf{1}((u \\to v) \\in E), \\quad\n",
    "deg_{out}(v) = \\sum_{w \\in V} \\mathbf{1}((v \\to w) \\in E)\n",
    "$$\n",
    "where $\\mathbf{1}$ is an indicator function that is $1$ if the edge exists, and $0$ otherwise.\n",
    "\n",
    "For an **undirected graph**, each node $v$ has just one degree measure:\n",
    "$$\n",
    "deg(v) = \\sum_{x \\in V} \\mathbf{1}((v, x) \\in E)\n",
    "$$\n",
    "which counts all edges incident to $v$, without distinguishing between “in” or “out” directions.\n"
   ]
  },
  {
   "cell_type": "markdown",
   "metadata": {},
   "source": [
    "Now, let's ask what are the stations with the most in-bound traffic and out-bound traffic. This gives key insights on which stations are more popular than the other."
   ]
  },
  {
   "cell_type": "code",
   "execution_count": 14,
   "metadata": {},
   "outputs": [
    {
     "name": "stdout",
     "output_type": "stream",
     "text": [
      "+----------------------------------------+--------+\n",
      "|id                                      |inDegree|\n",
      "+----------------------------------------+--------+\n",
      "|San Francisco Caltrain (Townsend at 4th)|63179   |\n",
      "|San Francisco Caltrain 2 (330 Townsend) |35117   |\n",
      "|Harry Bridges Plaza (Ferry Building)    |33193   |\n",
      "|Embarcadero at Sansome                  |30796   |\n",
      "|2nd at Townsend                         |28529   |\n",
      "+----------------------------------------+--------+\n",
      "\n"
     ]
    }
   ],
   "source": [
    "# station with the biggest in-bound traffic\n",
    "in_deg = station_graph.inDegrees\n",
    "in_deg.orderBy(desc(\"inDegree\")).limit(5).show(truncate=False)"
   ]
  },
  {
   "cell_type": "code",
   "execution_count": 15,
   "metadata": {},
   "outputs": [
    {
     "name": "stdout",
     "output_type": "stream",
     "text": [
      "+---------------------------------------------+---------+\n",
      "|id                                           |outDegree|\n",
      "+---------------------------------------------+---------+\n",
      "|San Francisco Caltrain (Townsend at 4th)     |49092    |\n",
      "|San Francisco Caltrain 2 (330 Townsend)      |33742    |\n",
      "|Harry Bridges Plaza (Ferry Building)         |32934    |\n",
      "|Embarcadero at Sansome                       |27713    |\n",
      "|Temporary Transbay Terminal (Howard at Beale)|26089    |\n",
      "+---------------------------------------------+---------+\n",
      "\n"
     ]
    }
   ],
   "source": [
    "# stations with the most out-bound traffic\n",
    "out_deg = station_graph.outDegrees\n",
    "out_deg.orderBy(desc(\"outDegree\")).limit(5).show(truncate=False)"
   ]
  },
  {
   "cell_type": "markdown",
   "metadata": {},
   "source": [
    "One more interesting question that arises when doing a degree analysis is how to identify “sink” and “source” stations by examining their in-degree/out-degree ratios, or in other words, determining which stations receive all trips (sink) or originate them (source) by comparing the balance of incoming and outgoing edges. We will do so by ranking the stations according to their 'in-degree/out-degree' ratio (low ratio - source station, high ratio - sink station). Values close to 1 mean that the station has similar in-bound and out-bound traffic."
   ]
  },
  {
   "cell_type": "code",
   "execution_count": 16,
   "metadata": {},
   "outputs": [],
   "source": [
    "degree_ratio = (\n",
    "    in_deg.join(out_deg, \"id\")\n",
    "    .selectExpr(\"id\", \"double(inDegree)/double(outDegree) as degreeRatio\"))"
   ]
  },
  {
   "cell_type": "code",
   "execution_count": 17,
   "metadata": {},
   "outputs": [
    {
     "name": "stdout",
     "output_type": "stream",
     "text": [
      "+----------------------------------------+------------------+\n",
      "|id                                      |degreeRatio       |\n",
      "+----------------------------------------+------------------+\n",
      "|Redwood City Medical Center             |1.4533762057877813|\n",
      "|Redwood City Public Library             |1.300469483568075 |\n",
      "|San Francisco Caltrain (Townsend at 4th)|1.286951030717836 |\n",
      "|Washington at Kearny                    |1.2723671947809878|\n",
      "|MLK Library                             |1.233038348082596 |\n",
      "|SJSU 4th at San Carlos                  |1.2282051282051283|\n",
      "|San Mateo County Center                 |1.2195121951219512|\n",
      "|Broadway at Main                        |1.208955223880597 |\n",
      "|University and Emerson                  |1.2056878306878307|\n",
      "|Washington at Kearney                   |1.203804347826087 |\n",
      "+----------------------------------------+------------------+\n",
      "\n"
     ]
    }
   ],
   "source": [
    "degree_ratio.orderBy(desc(\"degreeRatio\")).limit(10).show(truncate=False)"
   ]
  },
  {
   "cell_type": "code",
   "execution_count": 18,
   "metadata": {},
   "outputs": [
    {
     "name": "stdout",
     "output_type": "stream",
     "text": [
      "+-------------------------------+------------------+\n",
      "|id                             |degreeRatio       |\n",
      "+-------------------------------+------------------+\n",
      "|Grant Avenue at Columbus Avenue|0.564700110388814 |\n",
      "|2nd at Folsom                  |0.6056461731493099|\n",
      "|Powell at Post (Union Square)  |0.6887003841229193|\n",
      "|San Jose City Hall             |0.6928541579607188|\n",
      "|San Francisco City Hall        |0.7497243660418964|\n",
      "|Beale at Market                |0.774906104780699 |\n",
      "|Redwood City Caltrain Station  |0.8075933075933076|\n",
      "|Golden Gate at Polk            |0.8153091800599291|\n",
      "|Evelyn Park and Ride           |0.8218356328734253|\n",
      "|Ryland Park                    |0.8248425872925015|\n",
      "+-------------------------------+------------------+\n",
      "\n"
     ]
    }
   ],
   "source": [
    "degree_ratio.orderBy(asc(\"degreeRatio\")).limit(10).show(truncate=False)"
   ]
  },
  {
   "cell_type": "markdown",
   "metadata": {},
   "source": [
    "### Motifs"
   ]
  },
  {
   "cell_type": "markdown",
   "metadata": {},
   "source": [
    "**Motifs** (full documentation can be found [here](https://graphframes.github.io/graphframes/docs/_site/user-guide.html#motif-finding)) in GraphFrames allow you to search for structural patterns in your graph data. A motif is essentially a user-defined pattern of connected vertices and edges. By specifying a motif, you can uncover hidden relationships, discover common substructures (e.g., triangles, squares), and gain richer insights from your graph. This is especially useful for tasks like detecting social network patterns, identifying communication patterns in logs, or discovering frequent substructures in large datasets. the result of running `find()` is a Dataframe consisting of all the vertices Structs and edges Structs in the structure we are looking for. \n",
    "\n",
    "**Note:** We can omit the name of an edge or a vertex while looking for a motif. *Example*: `(a)-[]->(b)` - this will look for all the directed edges from 'a' to 'b', but in the resulting DataFrame, the struct for the edge 'e' is going to be omitted.\n",
    "\n",
    "Let's look at an example of motifs."
   ]
  },
  {
   "cell_type": "code",
   "execution_count": null,
   "metadata": {},
   "outputs": [
    {
     "name": "stdout",
     "output_type": "stream",
     "text": [
      "-RECORD 0----------------------------------------\n",
      " Station A       | Beale at Market               \n",
      " Station B       | Market at 10th                \n",
      " Minute_Diff     | 0.0                           \n",
      " end_datestamp   | 2015-06-22 13:19:00           \n",
      " start_datestamp | 2015-06-22 13:19:00           \n",
      "-RECORD 1----------------------------------------\n",
      " Station A       | Market at Sansome             \n",
      " Station B       | 2nd at South Park             \n",
      " Minute_Diff     | 0.0                           \n",
      " end_datestamp   | 2014-10-06 18:09:00           \n",
      " start_datestamp | 2014-10-06 18:09:00           \n",
      "-RECORD 2----------------------------------------\n",
      " Station A       | San Mateo County Center       \n",
      " Station B       | Redwood City Caltrain Station \n",
      " Minute_Diff     | 0.0                           \n",
      " end_datestamp   | 2015-04-06 12:32:00           \n",
      " start_datestamp | 2015-04-06 12:32:00           \n",
      "-RECORD 3----------------------------------------\n",
      " Station A       | San Mateo County Center       \n",
      " Station B       | Redwood City Public Library   \n",
      " Minute_Diff     | 0.0                           \n",
      " end_datestamp   | 2015-02-09 12:38:00           \n",
      " start_datestamp | 2015-02-09 12:38:00           \n",
      "-RECORD 4----------------------------------------\n",
      " Station A       | Howard at 2nd                 \n",
      " Station B       | 2nd at Townsend               \n",
      " Minute_Diff     | 0.0                           \n",
      " end_datestamp   | 2014-04-11 17:56:00           \n",
      " start_datestamp | 2014-04-11 17:56:00           \n",
      "-RECORD 5----------------------------------------\n",
      " Station A       | Redwood City Caltrain Station \n",
      " Station B       | Mezes Park                    \n",
      " Minute_Diff     | 0.0                           \n",
      " end_datestamp   | 2015-04-08 13:45:00           \n",
      " start_datestamp | 2015-04-08 13:45:00           \n",
      "only showing top 6 rows\n",
      "\n",
      "Count of the filtered Motifs: 2157\n"
     ]
    }
   ],
   "source": [
    "motifs = station_graph.find(\"(a)-[e]->(b); (b)-[e2]->(a)\")       # find stations for which there was a trip between them in both directions\n",
    "motifs = motifs.where(col('e.bike_id') == col('e2.bike_id'))     # filter so that the 'bike_id' is the same in 'e' and 'e2'\n",
    "motifs = motifs.where(col('a.id') != col('b.id'))                # filter so that the stations are distinct\n",
    "\n",
    "# filter so that the difference between the start of the 'return' trip and the end of the 'start' trip of the same bike is not more than 5 minutes long\n",
    "motifs = motifs.withColumn('Minute_Diff', ((col('e2.start_datestamp').cast('long') - col('e.end_datestamp').cast('long')) / 60))\n",
    "motifs = motifs.where((col('Minute_Diff') < 5) & (col('Minute_Diff') >= 0)) \n",
    "motifs_result = motifs.select(col('a.id').alias('Station A'), col('b.id').alias('Station B'), col('Minute_Diff'), 'e.end_datestamp', 'e2.start_datestamp')\\\n",
    "        .sort('Minute_Diff', ascending=True)\n",
    "motifs_result.show(n=6, truncate=False, vertical=True)\n",
    "print(f\"Count of the filtered Motifs: {motifs_result.count()}\")"
   ]
  },
  {
   "cell_type": "markdown",
   "metadata": {},
   "source": [
    "In the above example, we searched for bike rides where the same bike traveled from station A to station B and then quickly made a return trip from B to A. We filtered for a time difference of under 5 minutes between the end of the first ride and the start of the second ride, focusing on these short round-trips."
   ]
  },
  {
   "cell_type": "markdown",
   "metadata": {},
   "source": [
    "### SubGraphs"
   ]
  },
  {
   "cell_type": "markdown",
   "metadata": {},
   "source": [
    "**Given a graph:** $G = (V, E)$\n",
    "\n",
    "**Subgraph:** $G' = (V', E')$ is a subgraph of $G$ if $V' \\subseteq V$ and $E' \\subseteq E$, with every edge in $E'$ having endpoints in $V'$.\n",
    "\n",
    "**Induced Subgraph:** For any subset of vertices $V' \\subseteq V$, the induced subgraph $G[V']$ is $G' = (V', E')$, where  \n",
    "$$ E' = \\{(u,v) \\in E \\mid u \\in V' \\text{ and } v \\in V' \\}. $$\n",
    "\n",
    "We can filter out filters and edges and yield a subgraph by the following methods: `filterVertices(condition)`, `filterEdges(condition)` and `dropIsolatedVertices()`. \n",
    "\n",
    "More usage examples of Subgraphs in GraphFrames can be found [here](https://graphframes.github.io/graphframes/docs/_site/user-guide.html#subgraphs)"
   ]
  },
  {
   "cell_type": "code",
   "execution_count": 20,
   "metadata": {},
   "outputs": [
    {
     "name": "stdout",
     "output_type": "stream",
     "text": [
      "+-------------------------------+------------------------+--------+-------------------+-------------------+\n",
      "|src                            |dst                     |duration|start_datestamp    |end_datestamp      |\n",
      "+-------------------------------+------------------------+--------+-------------------+-------------------+\n",
      "|St James Park                  |San Pedro Square        |99993   |2014-02-05 11:50:00|2014-02-06 15:37:00|\n",
      "|Adobe on Almaden               |San Salvador at 1st     |99951   |2015-06-12 22:39:00|2015-06-14 02:25:00|\n",
      "|San Salvador at 1st            |Paseo de San Antonio    |999     |2014-07-26 16:39:00|2014-07-26 16:56:00|\n",
      "|Santa Clara County Civic Center|Arena Green / SAP Center|999     |2015-01-20 16:08:00|2015-01-20 16:25:00|\n",
      "|Santa Clara County Civic Center|MLK Library             |999     |2015-02-13 12:09:00|2015-02-13 12:26:00|\n",
      "+-------------------------------+------------------------+--------+-------------------+-------------------+\n",
      "only showing top 5 rows\n",
      "\n"
     ]
    }
   ],
   "source": [
    "# only consider stations in San Jose and don't consider the stations with no outcoming and incoming trips \n",
    "subgraph = station_graph.filterVertices(\"city == 'San Jose'\").dropIsolatedVertices()\n",
    "subgraph.edges.select('src', 'dst', 'duration', 'start_datestamp', 'end_datestamp').sort(desc(col('duration'))).show(n=5, truncate=False)"
   ]
  },
  {
   "cell_type": "markdown",
   "metadata": {},
   "source": [
    "GraphFrames provides even a more powerful approach to construct subgraphs using motifs. Let's see an example of this."
   ]
  },
  {
   "cell_type": "code",
   "execution_count": 21,
   "metadata": {},
   "outputs": [
    {
     "name": "stdout",
     "output_type": "stream",
     "text": [
      "+-------------------------------+-------------------------------+--------+\n",
      "|src                            |dst                            |duration|\n",
      "+-------------------------------+-------------------------------+--------+\n",
      "|San Antonio Caltrain Station   |California Ave Caltrain Station|999     |\n",
      "|San Antonio Shopping Center    |Cowper at University           |9984    |\n",
      "|California Ave Caltrain Station|San Antonio Caltrain Station   |996     |\n",
      "|San Antonio Caltrain Station   |Park at Olive                  |993     |\n",
      "|San Antonio Shopping Center    |California Ave Caltrain Station|993     |\n",
      "+-------------------------------+-------------------------------+--------+\n",
      "only showing top 5 rows\n",
      "\n"
     ]
    }
   ],
   "source": [
    "motifs = (\n",
    "    station_graph\n",
    "        .find(\"(a)-[e]->(b)\")\n",
    "        # trips from a city to a different city\n",
    "        .filter(col('a.city') != col('b.city'))\n",
    "        # trips more than 10 minutes\n",
    "        .filter(col('e.duration') > 600)\n",
    ")\n",
    "\n",
    "new_edges = motifs.select('e.src', 'e.dst', 'e.duration')\n",
    "subgraph = GraphFrame(station_graph.vertices, new_edges)\n",
    "subgraph.edges.sort(desc(col('duration'))).show(n=5, truncate=False)"
   ]
  },
  {
   "cell_type": "markdown",
   "metadata": {},
   "source": [
    "### Graph Algorithms"
   ]
  },
  {
   "cell_type": "markdown",
   "metadata": {},
   "source": [
    "GraphFrames also provides us with a collection of graph algorithms' implementation — PageRank, BFS, connected components.\n",
    "Full catalog of algorothms and more usage examples can be found [here](https://graphframes.github.io/graphframes/docs/_site/user-guide.html#graph-algorithms)."
   ]
  },
  {
   "cell_type": "markdown",
   "metadata": {},
   "source": [
    "#### BFS (Breadth-First-Search)\n",
    "\n",
    "**Overview:**  \n",
    "BFS is a fundamental graph traversal technique. Given a graph $G = (V, E)$ and a starting node $s$, BFS explores all vertices at the current depth before moving on to the next depth level. In an unweighted graph, this also gives the shortest path (in terms of edge count) from $s$ to every reachable vertex. \n",
    "\n",
    "**Time Complexity:**  \n",
    "The complexity of the algorithm is $O(|V| + |E|)$.\n",
    "\n",
    "For a concise overview of the BFS algorithm, see its [Wikipedia article](https://en.wikipedia.org/wiki/Breadth-first_search).\n"
   ]
  },
  {
   "cell_type": "markdown",
   "metadata": {},
   "source": [
    "We will work with the **`top_trips`** GraphFrame from earlier, which aggregates trips by their source and destination stations. Instead of focusing on each individual trip, we’re now abstracting the data to look at how stations connect to one another (i.e., building a station “map”). By grouping and summarizing rides between stations in `top_trips`, we can more easily explore the structural relationships (graph perspective) of our network.\n"
   ]
  },
  {
   "cell_type": "code",
   "execution_count": 22,
   "metadata": {},
   "outputs": [
    {
     "name": "stdout",
     "output_type": "stream",
     "text": [
      "+-------------+\n",
      "|city         |\n",
      "+-------------+\n",
      "|Palo Alto    |\n",
      "|San Francisco|\n",
      "|San Jose     |\n",
      "|Redwood City |\n",
      "|Mountain View|\n",
      "+-------------+\n",
      "\n"
     ]
    }
   ],
   "source": [
    "station_graph.vertices.select('city').distinct().show(truncate=False)"
   ]
  },
  {
   "cell_type": "code",
   "execution_count": 23,
   "metadata": {},
   "outputs": [
    {
     "name": "stdout",
     "output_type": "stream",
     "text": [
      "1916\n",
      "+-------------------------------+----------------------------------------+-----+\n",
      "|src                            |dst                                     |count|\n",
      "+-------------------------------+----------------------------------------+-----+\n",
      "|2nd at Folsom                  |San Francisco Caltrain (Townsend at 4th)|2121 |\n",
      "|University and Emerson         |California Ave Caltrain Station         |175  |\n",
      "|Market at 10th                 |Market at 10th                          |666  |\n",
      "|Grant Avenue at Columbus Avenue|Mechanics Plaza (Market at Battery)     |422  |\n",
      "|Golden Gate at Polk            |Steuart at Market                       |288  |\n",
      "+-------------------------------+----------------------------------------+-----+\n",
      "only showing top 5 rows\n",
      "\n"
     ]
    }
   ],
   "source": [
    "map_stations = station_graph.edges\\\n",
    "    .groupBy(\"src\", \"dst\")\\\n",
    "    .count()\n",
    "print(map_stations.count())\n",
    "map_stations.show(n=5, truncate=False)\n",
    "\n",
    "map_graph = GraphFrame(station_graph.vertices, map_stations)"
   ]
  },
  {
   "cell_type": "markdown",
   "metadata": {},
   "source": [
    "BFS takes two arguments: SQL filter on the source node and an SQL filter on the destination node. Let's try to find a shortest path between some station in San Jose and some station in Redwood City"
   ]
  },
  {
   "cell_type": "code",
   "execution_count": 24,
   "metadata": {},
   "outputs": [
    {
     "name": "stdout",
     "output_type": "stream",
     "text": [
      "-RECORD 0--------------------------------------------------------------------------------------------\n",
      " from | {Santa Clara County Civic Center, 37.352601, -121.90573300000001, 15, San Jose, 2013-12-31}  \n",
      " e0   | {Santa Clara County Civic Center, California Ave Caltrain Station, 1}                        \n",
      " v1   | {California Ave Caltrain Station, 37.429082, -122.14280500000001, 15, Palo Alto, 2013-08-14} \n",
      " e1   | {California Ave Caltrain Station, Stanford in Redwood City, 6}                               \n",
      " to   | {Stanford in Redwood City, 37.48537, -122.20328799999999, 15, Redwood City, 2013-08-12}      \n",
      "-RECORD 1--------------------------------------------------------------------------------------------\n",
      " from | {Japantown, 37.348742, -121.89471499999999, 15, San Jose, 2013-08-05}                        \n",
      " e0   | {Japantown, Cowper at University, 2}                                                         \n",
      " v1   | {Cowper at University, 37.448598, -122.159504, 11, Palo Alto, 2013-08-14}                    \n",
      " e1   | {Cowper at University, Franklin at Maple, 2}                                                 \n",
      " to   | {Franklin at Maple, 37.481758, -122.226904, 15, Redwood City, 2013-08-12}                    \n",
      "-RECORD 2--------------------------------------------------------------------------------------------\n",
      " from | {Japantown, 37.348742, -121.89471499999999, 15, San Jose, 2013-08-05}                        \n",
      " e0   | {Japantown, Cowper at University, 2}                                                         \n",
      " v1   | {Cowper at University, 37.448598, -122.159504, 11, Palo Alto, 2013-08-14}                    \n",
      " e1   | {Cowper at University, Redwood City Public Library, 1}                                       \n",
      " to   | {Redwood City Public Library, 37.484219, -122.227424, 15, Redwood City, 2013-08-12}          \n",
      "only showing top 3 rows\n",
      "\n"
     ]
    }
   ],
   "source": [
    "paths_sanjose_redwood = map_graph.bfs(\"city == 'San Jose'\", \"city == 'Redwood City'\", )\n",
    "paths_sanjose_redwood.show(n=3, truncate=False, vertical=True)"
   ]
  },
  {
   "cell_type": "markdown",
   "metadata": {},
   "source": [
    "Let'do the same, but with San Jose and San Francisco"
   ]
  },
  {
   "cell_type": "code",
   "execution_count": 25,
   "metadata": {},
   "outputs": [
    {
     "name": "stdout",
     "output_type": "stream",
     "text": [
      "-RECORD 0---------------------------------------------------------------------------------------------------------\n",
      " from | {Santa Clara at Almaden, 37.333988, -121.894902, 11, San Jose, 2013-08-06}                                \n",
      " e0   | {Santa Clara at Almaden, San Francisco Caltrain (Townsend at 4th), 1}                                     \n",
      " to   | {San Francisco Caltrain (Townsend at 4th), 37.776617, -122.39526000000001, 19, San Francisco, 2013-08-23} \n",
      "-RECORD 1---------------------------------------------------------------------------------------------------------\n",
      " from | {San Jose Civic Center, 37.330698, -121.888979, 15, San Jose, 2013-08-05}                                 \n",
      " e0   | {San Jose Civic Center, Civic Center BART (7th at Market), 1}                                             \n",
      " to   | {Civic Center BART (7th at Market), 37.781039, -122.411748, 23, San Francisco, 2013-08-23}                \n",
      "-RECORD 2---------------------------------------------------------------------------------------------------------\n",
      " from | {MLK Library, 37.335885, -121.88566000000002, 19, San Jose, 2013-08-06}                                   \n",
      " e0   | {MLK Library, Market at 4th, 1}                                                                           \n",
      " to   | {Market at 4th, 37.786305, -122.40496599999999, 19, San Francisco, 2013-08-25}                            \n",
      "only showing top 3 rows\n",
      "\n"
     ]
    }
   ],
   "source": [
    "paths_sanjose_sanfrancisco = map_graph.bfs(\"city == 'San Jose'\", \"city == 'San Francisco'\", )\n",
    "paths_sanjose_sanfrancisco.show(n=3, truncate=False, vertical=True)"
   ]
  },
  {
   "cell_type": "markdown",
   "metadata": {},
   "source": [
    "We observe that traveling from San Jose to Redwood in our graph requires two hops—specifically, San Jose → Palo Alto → Redwood. In other words, there is no single trip (direct edge) in the dataset from San Jose to Redwood. By contrast, San Jose to San Francisco is just one hop because we actually see a direct trip recorded between these two cities. This highlights that our data shows a more “direct bridge” from San Jose to San Francisco, whereas reaching Redwood from San Jose requires going through Palo Alto first."
   ]
  },
  {
   "cell_type": "markdown",
   "metadata": {},
   "source": [
    "#### Connected Components (CC)\n",
    "\n",
    "A **connected component** of an undirected graph $G = (V, E)$ is a maximal set of vertices such that **every vertex** in the set is reachable from **every other** vertex in the set. In other words, if you pick any two vertices $u$ and $v$ within the same connected component, there must be a path from $u$ to $v$ and (trivially) from $v$ back to $u$.\n",
    "\n",
    "For a concise overview of the Connected Components, see its [Wikipedia article](https://en.wikipedia.org/wiki/Connected_component_(graph_theory)).\n",
    "\n",
    "In the context of bike-sharing data, finding connected components can help us understand groups of stations that form **tight loops** of travel where each station is reachable from every other station in that group. This can be particularly revealing about stations often visited mutually within a short timeframe.\n",
    "\n",
    "In the code snippet, we:\n",
    "\n",
    "1. **Filtered and grouped** our edges by **short trip duration** ($\\le 600$ seconds) to focus on quickly traversed, closely related stations.\n",
    "2. Created a **new GraphFrame** using these short-trip edges, effectively focusing on a subgraph that emphasizes more “local” movements.\n",
    "4. **Ran the Connected Components algorithm** to see which stations fall into tightly knit clusters **under these short-travel constraints**.\n",
    "\n",
    "This approach helps isolate **subnetworks** of stations that might share geographical proximity.\n"
   ]
  },
  {
   "cell_type": "code",
   "execution_count": 26,
   "metadata": {},
   "outputs": [],
   "source": [
    "short_edges = station_graph.edges.filter(col('duration') <= 600)\\\n",
    "                                    .groupBy(['src','dst'])\\\n",
    "                                    .agg(avg('duration'))\n",
    "component_graph = GraphFrame(station_graph.vertices, short_edges)"
   ]
  },
  {
   "cell_type": "code",
   "execution_count": 27,
   "metadata": {},
   "outputs": [
    {
     "name": "stdout",
     "output_type": "stream",
     "text": [
      "+-------------+------------+\n",
      "|         city|   component|\n",
      "+-------------+------------+\n",
      "| Redwood City|           0|\n",
      "|     San Jose|128849018880|\n",
      "|San Francisco|           0|\n",
      "|Mountain View|257698037760|\n",
      "|    Palo Alto|  8589934592|\n",
      "+-------------+------------+\n",
      "\n"
     ]
    }
   ],
   "source": [
    "sc.setCheckpointDir(\"/tmp/spark-checkpoints\")\n",
    "\n",
    "components = component_graph.connectedComponents()\n",
    "components.select('city','component').distinct().show()"
   ]
  },
  {
   "cell_type": "code",
   "execution_count": 28,
   "metadata": {},
   "outputs": [
    {
     "name": "stdout",
     "output_type": "stream",
     "text": [
      "+-----------------------------+---------------------------------+-------------+\n",
      "|src                          |dst                              |avg(duration)|\n",
      "+-----------------------------+---------------------------------+-------------+\n",
      "|Redwood City Caltrain Station|Civic Center BART (7th at Market)|236.0        |\n",
      "+-----------------------------+---------------------------------+-------------+\n",
      "\n"
     ]
    }
   ],
   "source": [
    "redwood_ids = station_graph.vertices.where(col('city') == 'Redwood City').select('id').distinct().collect()\n",
    "redwood_ids = [row['id'] for row in redwood_ids]\n",
    "francisco_ids = station_graph.vertices.where(col('city') == 'San Francisco').select('id').distinct().collect()\n",
    "francisco_ids = [row['id'] for row in francisco_ids]\n",
    "                                            \n",
    "edges_filtered = short_edges.where(col('src').isin(redwood_ids))\\\n",
    "                            .where(col('dst').isin(francisco_ids))\n",
    "edges_filtered.show(truncate=False)"
   ]
  },
  {
   "cell_type": "markdown",
   "metadata": {},
   "source": [
    "Actually, an interesting observation from the **SCC (Strongly Connected Components)** analysis is that some stations end up grouped together in suspiciously short loops. This strongly suggests data anomalies—e.g., unrealistically short ride durations or incorrect timestamps. We may need to filter or clean these entries before drawing final conclusions.\n",
    "\n",
    "An example above shows that San Francisco and Redwood City end up in the same component, with an average short (under 10 minutes) bike ride between them showing a duration of **236 seconds**. This is likely **not physically feasible** given the real distance between these two cities, which implies that certain data points (e.g., timestamps, station IDs, or intermediate trips) may have been logged improperly. As a result, further data cleaning steps—such as discarding unreasonably short or suspicious trips—would be necessary to ensure the analysis accurately reflects real-world behavior."
   ]
  },
  {
   "cell_type": "markdown",
   "metadata": {},
   "source": [
    "#### PageRank"
   ]
  },
  {
   "cell_type": "markdown",
   "metadata": {},
   "source": [
    "PageRank is a classic algorithm that measures the relative importance of each vertex in a directed graph. Originally developed for web pages, the idea is that a node is considered *important* if it is linked to by other important nodes. In each iteration, PageRank redistributes a fraction of a node’s score among its outgoing edges and applies a “random jump” factor to handle sinks and ensure convergence.\n",
    "\n",
    "PageRank score for each vertex can be found by solving the following set of lin. equations:\n",
    "\n",
    "$$\n",
    "\\text{PR}(v) = \\frac{1 - d}{N} \\;+\\; d \\sum_{u \\in \\mathrm{In}(v)} \\frac{\\text{PR}(u)}{\\text{outdegree}(u)}\n",
    "$$\n",
    "\n",
    "where\n",
    "- $v$ is a vertex in the graph,\n",
    "- $d$ is the damping factor,\n",
    "- $N$ is the total number of vertices,\n",
    "- $\\mathrm{In}(v)$ is the set of vertices linking *into* $v$,\n",
    "- $deg_{out}(u)$ is the number of outgoing edges from node $u$.\n",
    "\n",
    "For a concise overview of the PageRank algorithm, see its [Wikipedia article](https://en.wikipedia.org/wiki/Connected_component_(graph_theory))."
   ]
  },
  {
   "cell_type": "code",
   "execution_count": 29,
   "metadata": {},
   "outputs": [
    {
     "name": "stdout",
     "output_type": "stream",
     "text": [
      "+----------------------------------------+------------------+\n",
      "|id                                      |pagerank          |\n",
      "+----------------------------------------+------------------+\n",
      "|San Francisco Caltrain (Townsend at 4th)|1.4453393585537728|\n",
      "|Civic Center BART (7th at Market)       |1.2164931710492708|\n",
      "|Market at 4th                           |1.2164871434037323|\n",
      "|Beale at Market                         |1.1386423430288939|\n",
      "|Market at Sansome                       |1.1386423430288939|\n",
      "+----------------------------------------+------------------+\n",
      "only showing top 5 rows\n",
      "\n"
     ]
    }
   ],
   "source": [
    "# resetProbability - damping factor,   tol - convergence tolerance\n",
    "pagerank_scores = map_graph.pageRank(resetProbability=0.15, tol=0.05).vertices\\\n",
    "                           .select('id', 'pagerank')\\\n",
    "                           .sort(desc(col('pagerank')))\n",
    "pagerank_scores.show(n=5, truncate=False)"
   ]
  },
  {
   "cell_type": "markdown",
   "metadata": {},
   "source": [
    "These top-ranked stations in San Francisco appear frequently in the trip data as highly “connected” hubs. They either have a lot of incoming edges (popular drop-off points) or a large overall flow of trips, which boosts their PageRank score. It makes sense that high-traffic transit areas like Caltrain stations or central BART stops rank above less frequented stations, reflecting their importance in the network."
   ]
  },
  {
   "cell_type": "markdown",
   "metadata": {},
   "source": [
    "#### Aggregate Messages\n",
    "\n",
    "`AggregateMessages` in GraphFrames (more usage examples can be found [here](https://graphframes.github.io/graphframes/docs/_site/user-guide.html#message-passing-via-aggregatemessages)) lets you send and receive messages among vertices based on edge relationships, then aggregate those messages in a single pass—similar to the synchronized model in distributed computing. Each vertex can receive data from its neighbors (defined by `sendToSrc` or `sendToDst`), and GraphFrames applies an aggregation function (e.g., sum, count) to all incoming messages. By chaining multiple rounds of message passing and aggregation, you can replicate many iterative graph algorithms (e.g., PageRank, connected components) in a **distributed** DataFrame-based environment.\n",
    "\n",
    "Read more about Distributed Computing [here](https://en.wikipedia.org/wiki/Distributed_computing)\n"
   ]
  },
  {
   "cell_type": "code",
   "execution_count": 30,
   "metadata": {},
   "outputs": [
    {
     "name": "stdout",
     "output_type": "stream",
     "text": [
      "+---------------------------------------------+------------------+\n",
      "|id                                           |sumInboundDuration|\n",
      "+---------------------------------------------+------------------+\n",
      "|Embarcadero at Sansome                       |5.1942975E7       |\n",
      "|San Francisco Caltrain (Townsend at 4th)     |4.7498255E7       |\n",
      "|Harry Bridges Plaza (Ferry Building)         |3.8347714E7       |\n",
      "|Powell Street BART                           |2.5832529E7       |\n",
      "|Market at 4th                                |2.5404823E7       |\n",
      "|2nd at Folsom                                |2.4514554E7       |\n",
      "|Market at Sansome                            |2.3674054E7       |\n",
      "|San Francisco Caltrain 2 (330 Townsend)      |2.3592293E7       |\n",
      "|Market at 10th                               |2.2606488E7       |\n",
      "|Steuart at Market                            |2.1855888E7       |\n",
      "|2nd at Townsend                              |2.152624E7        |\n",
      "|Powell at Post (Union Square)                |1.9559066E7       |\n",
      "|Townsend at 7th                              |1.8652022E7       |\n",
      "|Embarcadero at Vallejo                       |1.7934269E7       |\n",
      "|Grant Avenue at Columbus Avenue              |1.7422741E7       |\n",
      "|Civic Center BART (7th at Market)            |1.7286787E7       |\n",
      "|Temporary Transbay Terminal (Howard at Beale)|1.4674086E7       |\n",
      "|South Van Ness at Market                     |1.4336075E7       |\n",
      "|Embarcadero at Bryant                        |1.2066237E7       |\n",
      "|Yerba Buena Center of the Arts (3rd @ Howard)|1.1974918E7       |\n",
      "+---------------------------------------------+------------------+\n",
      "only showing top 20 rows\n",
      "\n"
     ]
    }
   ],
   "source": [
    "from graphframes.lib import AggregateMessages as AM\n",
    "\n",
    "msgToDst = AM.edge[\"duration\"]\n",
    "\n",
    "inbound_durations = station_graph.aggregateMessages(\n",
    "    sum(AM.msg).alias(\"sumInboundDuration\"),\n",
    "    sendToDst=msgToDst  # send the duration to the 'dst' vertex\n",
    ")\n",
    "inbound_durations.sort(desc('sumInboundDuration')).show(truncate=False)"
   ]
  },
  {
   "cell_type": "markdown",
   "metadata": {},
   "source": [
    "We use `AggregateMessages` to calculate, for each station, the **sum of the durations** of all inbound trips. Specifically, each edge sends its `duration` to the destination station, and then we aggregate (using `sum`) those values. Sorting the result in descending order reveals which stations receive the **greatest total ride time**—valuable for spotting major endpoints or hubs where users tend to conclude longer rides."
   ]
  },
  {
   "cell_type": "markdown",
   "metadata": {},
   "source": [
    "### Saving and Loading GraphFrames\n",
    "\n",
    "Since the GraphFrames library is built on top of DataFrames, the saving and loading of the graphs is strightforward. We need to save the `edges` DataFrame and the `nodes` DataFrame into Parquet (or any other format that suits you) and then load these DataFrames and construct the GraphFrame."
   ]
  },
  {
   "cell_type": "code",
   "execution_count": 33,
   "metadata": {},
   "outputs": [],
   "source": [
    "# writing components of the graph\n",
    "station_graph.vertices.write.parquet('../graph_save/nodes', mode='overwrite')\n",
    "station_graph.edges.write.parquet('../graph_save/edges', mode='overwrite')"
   ]
  },
  {
   "cell_type": "code",
   "execution_count": 34,
   "metadata": {},
   "outputs": [
    {
     "name": "stdout",
     "output_type": "stream",
     "text": [
      "+------------------------------------+------------------+-------------------+----------+-------------+----------------------+\n",
      "|id                                  |lat               |long               |dock_count|city         |installation_datestamp|\n",
      "+------------------------------------+------------------+-------------------+----------+-------------+----------------------+\n",
      "|Arena Green / SAP Center            |37.332692         |-121.900084        |19        |San Jose     |2013-08-05            |\n",
      "|Redwood City Caltrain Station       |37.486078000000006|-122.23208899999999|25        |Redwood City |2013-08-15            |\n",
      "|Castro Street and El Camino Real    |37.385956         |-122.083678        |11        |Mountain View|2013-12-31            |\n",
      "|Post at Kearney                     |37.788975         |-122.403452        |19        |San Francisco|2013-08-19            |\n",
      "|Clay at Battery                     |37.795001         |-122.39997         |15        |San Francisco|2013-08-19            |\n",
      "|Redwood City Public Library         |37.484219         |-122.227424        |15        |Redwood City |2013-08-12            |\n",
      "|Harry Bridges Plaza (Ferry Building)|37.795392         |-122.394203        |23        |San Francisco|2013-08-20            |\n",
      "|Embarcadero at Folsom               |37.791464000000005|-122.391034        |19        |San Francisco|2013-08-20            |\n",
      "|Powell at Post (Union Square)       |37.788446         |-122.408499        |19        |San Francisco|2013-08-23            |\n",
      "|San Antonio Caltrain Station        |37.406940000000006|-122.10675800000001|23        |Mountain View|2013-08-15            |\n",
      "|Adobe on Almaden                    |37.331415         |-121.8932          |19        |San Jose     |2013-08-05            |\n",
      "|Japantown                           |37.348742         |-121.89471499999999|15        |San Jose     |2013-08-05            |\n",
      "|Stanford in Redwood City            |37.48537          |-122.20328799999999|15        |Redwood City |2013-08-12            |\n",
      "|Howard at 2nd                       |37.786978000000005|-122.39810800000001|19        |San Francisco|2013-08-22            |\n",
      "|Evelyn Park and Ride                |37.390277000000005|-122.066553        |15        |Mountain View|2013-08-16            |\n",
      "|Ryland Park                         |37.342725         |-121.89561699999999|15        |San Jose     |2014-04-09            |\n",
      "|Commercial at Montgomery            |37.794230999999996|-122.402923        |15        |San Francisco|2013-08-19            |\n",
      "|Broadway St at Battery St           |37.798541         |-122.40086200000002|15        |San Francisco|2014-01-22            |\n",
      "|San Salvador at 1st                 |37.330165         |-121.88583100000001|15        |San Jose     |2013-08-05            |\n",
      "|South Van Ness at Market            |37.774814         |-122.418954        |19        |San Francisco|2013-08-23            |\n",
      "+------------------------------------+------------------+-------------------+----------+-------------+----------------------+\n",
      "only showing top 20 rows\n",
      "\n"
     ]
    }
   ],
   "source": [
    "# loading components of the graph\n",
    "nodes = spark.read.parquet('../graph_save/nodes')\n",
    "edges = spark.read.parquet('../graph_save/edges')\n",
    "loaded_graph = GraphFrame(nodes, edges)\n",
    "\n",
    "loaded_graph.vertices.show(truncate=False)"
   ]
  }
 ],
 "metadata": {
  "colab": {
   "provenance": []
  },
  "kernelspec": {
   "display_name": "Python 3 (ipykernel)",
   "language": "python",
   "name": "python3"
  },
  "language_info": {
   "codemirror_mode": {
    "name": "ipython",
    "version": 3
   },
   "file_extension": ".py",
   "mimetype": "text/x-python",
   "name": "python",
   "nbconvert_exporter": "python",
   "pygments_lexer": "ipython3",
   "version": "3.9.10"
  }
 },
 "nbformat": 4,
 "nbformat_minor": 4
}
