{
 "cells": [
  {
   "cell_type": "markdown",
   "id": "6b1bb265-bc27-4ef9-bef6-29cd838257e7",
   "metadata": {},
   "source": [
    "Use Pandas to plot. Unreleated to Spark\n",
    "\n",
    "TODO: try this https://bamboolib.8080labs.com/"
   ]
  },
  {
   "cell_type": "code",
   "execution_count": 24,
   "id": "d9aa8386-0989-4f1e-9f0e-ec582ddf7ae1",
   "metadata": {},
   "outputs": [
    {
     "data": {
      "text/plain": [
       "<AxesSubplot: >"
      ]
     },
     "execution_count": 24,
     "metadata": {},
     "output_type": "execute_result"
    },
    {
     "data": {
      "image/png": "[encoded data removed]",
      "text/plain": [
       "<Figure size 640x480 with 1 Axes>"
      ]
     },
     "metadata": {},
     "output_type": "display_data"
    }
   ],
   "source": [
    "import numpy as np\n",
    "import pandas as ps\n",
    "data = np.random.randn(250, 4)\n",
    "df = ps.DataFrame(data, columns=list('ABCD'))\n",
    "df['B'].plot.box()  "
   ]
  },
  {
   "cell_type": "code",
   "execution_count": 25,
   "id": "e0a08e8e-f88f-458d-a3f3-d2af2de0d905",
   "metadata": {},
   "outputs": [
    {
     "data": {
      "text/plain": [
       "pandas.core.frame.DataFrame"
      ]
     },
     "execution_count": 25,
     "metadata": {},
     "output_type": "execute_result"
    }
   ],
   "source": [
    "type(df)"
   ]
  },
  {
   "cell_type": "code",
   "execution_count": 26,
   "id": "4cc7696b-ffbe-4cac-b486-779aa1ad9663",
   "metadata": {},
   "outputs": [
    {
     "data": {
      "text/html": [
       "<div>\n",
       "<style scoped>\n",
       "    .dataframe tbody tr th:only-of-type {\n",
       "        vertical-align: middle;\n",
       "    }\n",
       "\n",
       "    .dataframe tbody tr th {\n",
       "        vertical-align: top;\n",
       "    }\n",
       "\n",
       "    .dataframe thead th {\n",
       "        text-align: right;\n",
       "    }\n",
       "</style>\n",
       "<table border=\"1\" class=\"dataframe\">\n",
       "  <thead>\n",
       "    <tr style=\"text-align: right;\">\n",
       "      <th></th>\n",
       "      <th>A</th>\n",
       "      <th>B</th>\n",
       "      <th>C</th>\n",
       "      <th>D</th>\n",
       "    </tr>\n",
       "  </thead>\n",
       "  <tbody>\n",
       "    <tr>\n",
       "      <th>0</th>\n",
       "      <td>-1.057787</td>\n",
       "      <td>-0.249507</td>\n",
       "      <td>-0.212883</td>\n",
       "      <td>0.648598</td>\n",
       "    </tr>\n",
       "    <tr>\n",
       "      <th>1</th>\n",
       "      <td>-2.583707</td>\n",
       "      <td>-0.739894</td>\n",
       "      <td>0.111003</td>\n",
       "      <td>-0.370959</td>\n",
       "    </tr>\n",
       "    <tr>\n",
       "      <th>2</th>\n",
       "      <td>-0.855810</td>\n",
       "      <td>-0.690413</td>\n",
       "      <td>-1.197137</td>\n",
       "      <td>0.753586</td>\n",
       "    </tr>\n",
       "    <tr>\n",
       "      <th>3</th>\n",
       "      <td>-1.081065</td>\n",
       "      <td>-1.470777</td>\n",
       "      <td>-1.199602</td>\n",
       "      <td>0.808192</td>\n",
       "    </tr>\n",
       "    <tr>\n",
       "      <th>4</th>\n",
       "      <td>-0.592757</td>\n",
       "      <td>-0.291007</td>\n",
       "      <td>0.239744</td>\n",
       "      <td>0.767832</td>\n",
       "    </tr>\n",
       "    <tr>\n",
       "      <th>...</th>\n",
       "      <td>...</td>\n",
       "      <td>...</td>\n",
       "      <td>...</td>\n",
       "      <td>...</td>\n",
       "    </tr>\n",
       "    <tr>\n",
       "      <th>245</th>\n",
       "      <td>-1.807677</td>\n",
       "      <td>-0.080957</td>\n",
       "      <td>0.573457</td>\n",
       "      <td>0.013000</td>\n",
       "    </tr>\n",
       "    <tr>\n",
       "      <th>246</th>\n",
       "      <td>0.804497</td>\n",
       "      <td>0.006336</td>\n",
       "      <td>-0.078603</td>\n",
       "      <td>0.059969</td>\n",
       "    </tr>\n",
       "    <tr>\n",
       "      <th>247</th>\n",
       "      <td>0.086611</td>\n",
       "      <td>0.605572</td>\n",
       "      <td>1.925554</td>\n",
       "      <td>-0.752788</td>\n",
       "    </tr>\n",
       "    <tr>\n",
       "      <th>248</th>\n",
       "      <td>0.564124</td>\n",
       "      <td>1.016503</td>\n",
       "      <td>0.153306</td>\n",
       "      <td>0.020451</td>\n",
       "    </tr>\n",
       "    <tr>\n",
       "      <th>249</th>\n",
       "      <td>-0.106728</td>\n",
       "      <td>-0.551062</td>\n",
       "      <td>0.048742</td>\n",
       "      <td>0.949350</td>\n",
       "    </tr>\n",
       "  </tbody>\n",
       "</table>\n",
       "<p>250 rows × 4 columns</p>\n",
       "</div>"
      ],
      "text/plain": [
       "            A         B         C         D\n",
       "0   -1.057787 -0.249507 -0.212883  0.648598\n",
       "1   -2.583707 -0.739894  0.111003 -0.370959\n",
       "2   -0.855810 -0.690413 -1.197137  0.753586\n",
       "3   -1.081065 -1.470777 -1.199602  0.808192\n",
       "4   -0.592757 -0.291007  0.239744  0.767832\n",
       "..        ...       ...       ...       ...\n",
       "245 -1.807677 -0.080957  0.573457  0.013000\n",
       "246  0.804497  0.006336 -0.078603  0.059969\n",
       "247  0.086611  0.605572  1.925554 -0.752788\n",
       "248  0.564124  1.016503  0.153306  0.020451\n",
       "249 -0.106728 -0.551062  0.048742  0.949350\n",
       "\n",
       "[250 rows x 4 columns]"
      ]
     },
     "execution_count": 26,
     "metadata": {},
     "output_type": "execute_result"
    }
   ],
   "source": [
    "df"
   ]
  },
  {
   "cell_type": "code",
   "execution_count": null,
   "id": "9cf0ac78-b6d9-45f6-8c09-664db4ccd2e5",
   "metadata": {},
   "outputs": [],
   "source": []
  }
 ],
 "metadata": {
  "kernelspec": {
   "display_name": "Python 3 (ipykernel)",
   "language": "python",
   "name": "python3"
  },
  "language_info": {
   "codemirror_mode": {
    "name": "ipython",
    "version": 3
   },
   "file_extension": ".py",
   "mimetype": "text/x-python",
   "name": "python",
   "nbconvert_exporter": "python",
   "pygments_lexer": "ipython3",
   "version": "3.9.7"
  }
 },
 "nbformat": 4,
 "nbformat_minor": 5
}
