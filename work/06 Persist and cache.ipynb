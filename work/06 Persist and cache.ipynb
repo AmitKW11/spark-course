{
 "cells": [
  {
   "cell_type": "markdown",
   "id": "6df41d3c-422e-4a5f-98b8-188bcfdca06c",
   "metadata": {},
   "source": [
    "# Persist and cache"
   ]
  },
  {
   "cell_type": "markdown",
   "id": "6232f2dd-655d-4f46-8187-676327e66ea4",
   "metadata": {},
   "source": [
    "By default, each transformed RDD may be recomputed each time you run an action on it. However, you may also persist an RDD in memory using the persist (or cache) method, in which case Spark will keep the elements around on the cluster for much faster access the next time you query it. There is also support for persisting RDDs on disk, or replicated across multiple nodes.\n",
    "\n",
    "See [Best practice for cache(), count(), and take()](https://kb.databricks.com/en_US/scala/best-practice-cache-count-take\n",
    ")"
   ]
  },
  {
   "cell_type": "code",
   "execution_count": null,
   "id": "82de69aa-819b-45d5-b5d9-ae1006aaa63e",
   "metadata": {},
   "outputs": [],
   "source": [
    "from pyspark.sql import SparkSession\n",
    "spark = SparkSession.builder.appName(\"cache demo\").getOrCreate()"
   ]
  },
  {
   "cell_type": "markdown",
   "id": "4d0c5670-a822-4e64-a4f2-dd8a49dcf60b",
   "metadata": {},
   "source": [
    "# Storage levels\n",
    "\n",
    "https://spark.apache.org/docs/latest/api/python/reference/api/pyspark.StorageLevel.html\n",
    "\n",
    "StorageLevel decides how RDD should be stored. In Apache Spark, StorageLevel decides whether RDD should be stored in the memory or should it be stored over the disk, or both. It also decides whether to serialize RDD and whether to replicate RDD partitions."
   ]
  },
  {
   "cell_type": "markdown",
   "id": "b273e05a-c39b-4069-a642-0d657a410cfc",
   "metadata": {},
   "source": [
    "### Note\n",
    "*The caching is more effective when data has to be copied between nodes. In this notebook and setup, we use a single node, so we might not see the benefit.*\n",
    "\n",
    "Also, to see the time saved, a large table has to be used, or a lengthy computation."
   ]
  },
  {
   "cell_type": "markdown",
   "id": "e39ddfd7-b5c4-4f8c-8b33-5f37f1237a4d",
   "metadata": {},
   "source": [
    "# Let's see it working\n",
    "\n",
    "In the code below, we create a vector of N random values, convert it to DF and then sort it.\n",
    "\n",
    "Run the code one step at a time and watch the execution times.\n",
    "## NOTE: running this notebook on Databricks server shows the differences more clearly!"
   ]
  },
  {
   "cell_type": "code",
   "execution_count": null,
   "id": "c55d090d-7154-4177-bf12-8f1e0826cf83",
   "metadata": {},
   "outputs": [],
   "source": [
    "%%time\n",
    "# generate a pretty large dataframe\n",
    "from pyspark.sql.types import*\n",
    "from pyspark.mllib.random import RandomRDDs\n",
    "\n",
    "u = RandomRDDs.normalRDD(spark, 4*1000*1000, numPartitions=10)\n",
    "u = u.map(lambda x: (x,)) # convert to tuple so we can transorm into DF\n",
    "schema = StructType([  StructField('c1', FloatType(), False)]) "
   ]
  },
  {
   "cell_type": "code",
   "execution_count": null,
   "id": "2dd2c6dc-c8f6-49e0-a5c0-bf2be0f87c77",
   "metadata": {},
   "outputs": [],
   "source": [
    "%%time\n",
    "df = spark.createDataFrame(u, schema)"
   ]
  },
  {
   "cell_type": "markdown",
   "id": "4c63e1b0-055b-46ca-a79d-e2589b50dac1",
   "metadata": {},
   "source": [
    "When is the data stored to the cache?\n",
    "\n",
    "cache() is a tranform, so only when an action is activated the data will be saved.\n",
    "\n",
    "For example. if we call `take(6)`, only the first (of 10 partitions) is accessed, so only that partition will be cached."
   ]
  },
  {
   "cell_type": "code",
   "execution_count": null,
   "id": "6cd36248-5833-430e-98e3-bcc2e7903bcb",
   "metadata": {},
   "outputs": [],
   "source": [
    "%%time \n",
    "sorted_df = df.sort(df['c1'])\n",
    "#sorted_df.cache()\n",
    "_ = sorted_df.count() # force an action, so the 'cache()' transform will be activated"
   ]
  },
  {
   "cell_type": "markdown",
   "id": "84ebe33d-f0d9-4afc-898e-53a756b16729",
   "metadata": {},
   "source": [
    "Now **run the cell above again several times**. We care about the \"wall time\" which includes both the CPU and time to load the data.\n",
    "\n",
    "You should see more or less the same values (a few seconds on my own laptop)\n"
   ]
  },
  {
   "cell_type": "markdown",
   "id": "f02b737d-1280-41b9-87b9-313af9c63623",
   "metadata": {},
   "source": [
    "Here is another calculation based on `df` . Not realy a life changer"
   ]
  },
  {
   "cell_type": "code",
   "execution_count": null,
   "id": "35fd6d0e-4761-4443-b0a5-7d82628ec843",
   "metadata": {
    "tags": []
   },
   "outputs": [],
   "source": [
    "%%time\n",
    "filtered = df.sort(df['c1']).filter(df['c1'] > 0.5)\n",
    "filtered.count()"
   ]
  },
  {
   "cell_type": "markdown",
   "id": "8b445fb4-4fca-4837-89f5-4d1df51a52f2",
   "metadata": {},
   "source": [
    "At last, run this cell to cache `df`, then run the above cell again.\n",
    "\n",
    "In the first run after calling cache(), the time is still the same. (why?)\n",
    "\n",
    "Now run it again (second time after calling cache() ). What do you see?"
   ]
  },
  {
   "cell_type": "code",
   "execution_count": null,
   "id": "4c46ddb1-482a-4e5f-aa56-6366daae3000",
   "metadata": {},
   "outputs": [],
   "source": [
    "df.cache()"
   ]
  },
  {
   "cell_type": "markdown",
   "id": "a1bafa9c-d97d-494c-9eb8-3b75d7352543",
   "metadata": {},
   "source": [
    "## Cache vs. Persist\n",
    "\n",
    "The cache() saves the RDD only to RAM memory.<br>\n",
    "persist() has many storage options (check the docs)"
   ]
  },
  {
   "cell_type": "code",
   "execution_count": null,
   "id": "283f8439-65ac-45eb-aba5-ff65d6a45ac7",
   "metadata": {},
   "outputs": [],
   "source": []
  }
 ],
 "metadata": {
  "kernelspec": {
   "display_name": "Python 3 (ipykernel)",
   "language": "python",
   "name": "python3"
  },
  "language_info": {
   "codemirror_mode": {
    "name": "ipython",
    "version": 3
   },
   "file_extension": ".py",
   "mimetype": "text/x-python",
   "name": "python",
   "nbconvert_exporter": "python",
   "pygments_lexer": "ipython3",
   "version": "3.9.10"
  },
  "toc-autonumbering": false,
  "toc-showcode": false,
  "toc-showmarkdowntxt": false,
  "toc-showtags": true
 },
 "nbformat": 4,
 "nbformat_minor": 5
}
