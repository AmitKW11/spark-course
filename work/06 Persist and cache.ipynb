{
 "cells": [
  {
   "cell_type": "markdown",
   "id": "6df41d3c-422e-4a5f-98b8-188bcfdca06c",
   "metadata": {},
   "source": [
    "# Persist and cache"
   ]
  },
  {
   "cell_type": "markdown",
   "id": "6232f2dd-655d-4f46-8187-676327e66ea4",
   "metadata": {},
   "source": [
    "By default, each transformed RDD may be recomputed each time you run an action on it. However, you may also persist an RDD in memory using the persist (or cache) method, in which case Spark will keep the elements around on the cluster for much faster access the next time you query it. There is also support for persisting RDDs on disk, or replicated across multiple nodes."
   ]
  },
  {
   "cell_type": "code",
   "execution_count": null,
   "id": "82de69aa-819b-45d5-b5d9-ae1006aaa63e",
   "metadata": {},
   "outputs": [],
   "source": [
    "\n",
    "from pyspark.sql import SparkSession\n",
    "\n",
    "logFile = \"/var/log/dpkg.log\" # this should be a large file to show the effect of caching\n",
    "spark = SparkSession.builder.appName(\"cache demo\").getOrCreate()\n",
    "logData = spark.read.text(logFile).cache()"
   ]
  },
  {
   "cell_type": "markdown",
   "id": "4d0c5670-a822-4e64-a4f2-dd8a49dcf60b",
   "metadata": {},
   "source": [
    "# Storage levels\n",
    "\n",
    "https://spark.apache.org/docs/latest/api/python/reference/api/pyspark.StorageLevel.html\n",
    "\n",
    "StorageLevel decides how RDD should be stored. In Apache Spark, StorageLevel decides whether RDD should be stored in the memory or should it be stored over the disk, or both. It also decides whether to serialize RDD and whether to replicate RDD partitions."
   ]
  },
  {
   "cell_type": "markdown",
   "id": "199c624a-69df-4db4-a660-c3d575d57ec8",
   "metadata": {},
   "source": [
    "### Blooper alert\n",
    "The caching is effective when data has to be copied between nodes. In this notebook and setup, we use a single node, so we will not see the benefit.\n",
    "\n",
    "Also, to see the time saved, a large table has to be used."
   ]
  },
  {
   "cell_type": "code",
   "execution_count": null,
   "id": "56c90d00-af60-4497-b445-1ab113e5e5cf",
   "metadata": {},
   "outputs": [],
   "source": [
    "%time\n",
    "\n",
    "numAs = logData.filter(logData.value.contains('a')).count()\n",
    "\n",
    "# logData is now cached. \n",
    "numBs = logData.filter(logData.value.contains('b')).count()"
   ]
  },
  {
   "cell_type": "code",
   "execution_count": null,
   "id": "05e4d78b-0401-4c7e-9df0-1c68cc4927f0",
   "metadata": {},
   "outputs": [],
   "source": [
    "print(\"Lines with a: %i, lines with b: %i\" % (numAs, numBs))\n",
    "\n",
    "spark.stop()"
   ]
  },
  {
   "cell_type": "markdown",
   "id": "a1bafa9c-d97d-494c-9eb8-3b75d7352543",
   "metadata": {},
   "source": [
    "## Cache vs. Persist\n",
    "\n",
    "The Cache() saves the RDD only to RAM memory.<br>\n",
    "Persist() has many storage options (check the docs)"
   ]
  },
  {
   "cell_type": "code",
   "execution_count": null,
   "id": "25c18a04-9e44-417d-8c92-2a1be36ce2b7",
   "metadata": {},
   "outputs": [],
   "source": []
  }
 ],
 "metadata": {
  "kernelspec": {
   "display_name": "Python 3 (ipykernel)",
   "language": "python",
   "name": "python3"
  },
  "language_info": {
   "codemirror_mode": {
    "name": "ipython",
    "version": 3
   },
   "file_extension": ".py",
   "mimetype": "text/x-python",
   "name": "python",
   "nbconvert_exporter": "python",
   "pygments_lexer": "ipython3",
   "version": "3.9.7"
  }
 },
 "nbformat": 4,
 "nbformat_minor": 5
}
